{
 "cells": [
  {
   "cell_type": "code",
   "execution_count": 2,
   "metadata": {},
   "outputs": [],
   "source": [
    "import pandas as pd\n",
    "import glob, os\n",
    "#os.chdir(\"All_Listings/\")\n",
    "\n",
    "import numpy as np\n",
    "#!pip install --upgrade pip\n",
    "#!pip install gender-guesser\n",
    "\n",
    "import gender_guesser.detector as gender"
   ]
  },
  {
   "cell_type": "markdown",
   "metadata": {},
   "source": [
    "# Combine All Listing Data"
   ]
  },
  {
   "cell_type": "code",
   "execution_count": 2,
   "metadata": {
    "scrolled": false
   },
   "outputs": [
    {
     "name": "stdout",
     "output_type": "stream",
     "text": [
      "********   City  1 : All_Data/All_Listings/Chicago_listings.csv.gz\n"
     ]
    },
    {
     "name": "stderr",
     "output_type": "stream",
     "text": [
      "/anaconda3/lib/python3.6/site-packages/IPython/core/interactiveshell.py:2785: DtypeWarning: Columns (61,62) have mixed types. Specify dtype option on import or set low_memory=False.\n",
      "  interactivity=interactivity, compiler=compiler, result=result)\n"
     ]
    },
    {
     "name": "stdout",
     "output_type": "stream",
     "text": [
      "Shape of file: (8533, 106)\n",
      "Shape of Combined: (8533, 106)\n",
      "********   City  2 : All_Data/All_Listings/Cambridge_listings.csv.gz\n",
      "Shape of file: (1277, 106)\n",
      "Shape of Combined: (9810, 106)\n",
      "********   City  3 : All_Data/All_Listings/RhodeIsland_listings.csv.gz\n",
      "Shape of file: (3876, 106)\n",
      "Shape of Combined: (13686, 106)\n",
      "********   City  4 : All_Data/All_Listings/Denver_listings.csv.gz\n",
      "Shape of file: (4865, 106)\n",
      "Shape of Combined: (18551, 106)\n",
      "********   City  5 : All_Data/All_Listings/SanDiego_listings.csv.gz\n"
     ]
    },
    {
     "name": "stderr",
     "output_type": "stream",
     "text": [
      "/anaconda3/lib/python3.6/site-packages/IPython/core/interactiveshell.py:2785: DtypeWarning: Columns (43,94) have mixed types. Specify dtype option on import or set low_memory=False.\n",
      "  interactivity=interactivity, compiler=compiler, result=result)\n"
     ]
    },
    {
     "name": "stdout",
     "output_type": "stream",
     "text": [
      "Shape of file: (13574, 106)\n",
      "Shape of Combined: (32125, 106)\n",
      "********   City  6 : All_Data/All_Listings/PacificGrove_listings.csv.gz\n",
      "Shape of file: (218, 106)\n",
      "Shape of Combined: (32343, 106)\n",
      "********   City  7 : All_Data/All_Listings/Seattle_listings.csv.gz\n"
     ]
    },
    {
     "name": "stderr",
     "output_type": "stream",
     "text": [
      "/anaconda3/lib/python3.6/site-packages/IPython/core/interactiveshell.py:2785: DtypeWarning: Columns (43,61,62) have mixed types. Specify dtype option on import or set low_memory=False.\n",
      "  interactivity=interactivity, compiler=compiler, result=result)\n"
     ]
    },
    {
     "name": "stdout",
     "output_type": "stream",
     "text": [
      "Shape of file: (9023, 106)\n",
      "Shape of Combined: (41366, 106)\n",
      "********   City  8 : All_Data/All_Listings/SanMateo_listings.csv.gz\n",
      "Shape of file: (7, 106)\n",
      "Shape of Combined: (41373, 106)\n",
      "********   City  9 : All_Data/All_Listings/Broward_listings.csv.gz\n",
      "Shape of file: (10325, 106)\n",
      "Shape of Combined: (51698, 106)\n",
      "********   City  10 : All_Data/All_Listings/Salem_listings.csv.gz\n",
      "Shape of file: (197, 106)\n",
      "Shape of Combined: (51895, 106)\n",
      "********   City  11 : All_Data/All_Listings/Boston_listings.csv.gz\n",
      "Shape of file: (3507, 106)\n",
      "Shape of Combined: (55402, 106)\n",
      "********   City  12 : All_Data/All_Listings/Washington_listings.csv.gz\n",
      "Shape of file: (9152, 106)\n",
      "Shape of Combined: (64554, 106)\n",
      "********   City  13 : All_Data/All_Listings/Austin_listings.csv.gz\n",
      "Shape of file: (11250, 106)\n",
      "Shape of Combined: (75804, 106)\n",
      "********   City  14 : All_Data/All_Listings/Oakland_listings.csv.gz\n",
      "Shape of file: (3350, 106)\n",
      "Shape of Combined: (79154, 106)\n",
      "********   City  15 : All_Data/All_Listings/NewYork_listings.csv.gz\n"
     ]
    },
    {
     "name": "stderr",
     "output_type": "stream",
     "text": [
      "/anaconda3/lib/python3.6/site-packages/IPython/core/interactiveshell.py:2785: DtypeWarning: Columns (61,62,94,95) have mixed types. Specify dtype option on import or set low_memory=False.\n",
      "  interactivity=interactivity, compiler=compiler, result=result)\n"
     ]
    },
    {
     "name": "stdout",
     "output_type": "stream",
     "text": [
      "Shape of file: (50599, 106)\n",
      "Shape of Combined: (129753, 106)\n",
      "********   City  16 : All_Data/All_Listings/Columbus_listings.csv.gz\n",
      "Shape of file: (1411, 106)\n",
      "Shape of Combined: (131164, 106)\n",
      "********   City  17 : All_Data/All_Listings/Portland_listings.csv.gz\n",
      "Shape of file: (4793, 106)\n",
      "Shape of Combined: (135957, 106)\n",
      "********   City  18 : All_Data/All_Listings/Asheville_listings.csv.gz\n",
      "Shape of file: (2441, 106)\n",
      "Shape of Combined: (138398, 106)\n",
      "********   City  19 : All_Data/All_Listings/SantaClara_listings.csv.gz\n",
      "Shape of file: (7658, 106)\n",
      "Shape of Combined: (146056, 106)\n",
      "********   City  20 : All_Data/All_Listings/Jersey_listings.csv.gz\n",
      "Shape of file: (3103, 106)\n",
      "Shape of Combined: (149159, 106)\n",
      "********   City  21 : All_Data/All_Listings/SantaCruz_listings.csv.gz\n",
      "Shape of file: (1791, 106)\n",
      "Shape of Combined: (150950, 106)\n",
      "********   City  22 : All_Data/All_Listings/Hawaii_listings.csv.gz\n"
     ]
    },
    {
     "name": "stderr",
     "output_type": "stream",
     "text": [
      "/anaconda3/lib/python3.6/site-packages/IPython/core/interactiveshell.py:2785: DtypeWarning: Columns (61,62,95) have mixed types. Specify dtype option on import or set low_memory=False.\n",
      "  interactivity=interactivity, compiler=compiler, result=result)\n"
     ]
    },
    {
     "name": "stdout",
     "output_type": "stream",
     "text": [
      "Shape of file: (23745, 106)\n",
      "Shape of Combined: (174695, 106)\n",
      "********   City  23 : All_Data/All_Listings/TwinCities_listings.csv.gz\n",
      "Shape of file: (6900, 106)\n",
      "Shape of Combined: (181595, 106)\n",
      "********   City  24 : All_Data/All_Listings/NewOrleans_listings.csv.gz\n",
      "Shape of file: (6520, 106)\n",
      "Shape of Combined: (188115, 106)\n",
      "********   City  25 : All_Data/All_Listings/LosAngeles_listings.csv.gz\n",
      "Shape of file: (40125, 106)\n",
      "Shape of Combined: (228240, 106)\n",
      "********   City  26 : All_Data/All_Listings/Nashville_listings.csv.gz\n",
      "Shape of file: (7396, 106)\n",
      "Shape of Combined: (235636, 106)\n",
      "********   City  27 : All_Data/All_Listings/SanFrancisco_listings.csv.gz\n",
      "Shape of file: (8533, 106)\n",
      "Shape of Combined: (244169, 106)\n",
      "********   City  28 : All_Data/All_Listings/ClarkCounty_listings.csv.gz\n",
      "Shape of file: (10492, 106)\n",
      "Shape of Combined: (254661, 106)\n",
      "*************************\n",
      "Shape of Combined: (254661, 106)\n",
      "0 id\n",
      "1 listing_url\n",
      "2 scrape_id\n",
      "3 last_scraped\n",
      "4 name\n",
      "5 summary\n",
      "6 space\n",
      "7 description\n",
      "8 experiences_offered\n",
      "9 neighborhood_overview\n",
      "10 notes\n",
      "11 transit\n",
      "12 access\n",
      "13 interaction\n",
      "14 house_rules\n",
      "15 thumbnail_url\n",
      "16 medium_url\n",
      "17 picture_url\n",
      "18 xl_picture_url\n",
      "19 host_id\n",
      "20 host_url\n",
      "21 host_name\n",
      "22 host_since\n",
      "23 host_location\n",
      "24 host_about\n",
      "25 host_response_time\n",
      "26 host_response_rate\n",
      "27 host_acceptance_rate\n",
      "28 host_is_superhost\n",
      "29 host_thumbnail_url\n",
      "30 host_picture_url\n",
      "31 host_neighbourhood\n",
      "32 host_listings_count\n",
      "33 host_total_listings_count\n",
      "34 host_verifications\n",
      "35 host_has_profile_pic\n",
      "36 host_identity_verified\n",
      "37 street\n",
      "38 neighbourhood\n",
      "39 neighbourhood_cleansed\n",
      "40 neighbourhood_group_cleansed\n",
      "41 city\n",
      "42 state\n",
      "43 zipcode\n",
      "44 market\n",
      "45 smart_location\n",
      "46 country_code\n",
      "47 country\n",
      "48 latitude\n",
      "49 longitude\n",
      "50 is_location_exact\n",
      "51 property_type\n",
      "52 room_type\n",
      "53 accommodates\n",
      "54 bathrooms\n",
      "55 bedrooms\n",
      "56 beds\n",
      "57 bed_type\n",
      "58 amenities\n",
      "59 square_feet\n",
      "60 price\n",
      "61 weekly_price\n",
      "62 monthly_price\n",
      "63 security_deposit\n",
      "64 cleaning_fee\n",
      "65 guests_included\n",
      "66 extra_people\n",
      "67 minimum_nights\n",
      "68 maximum_nights\n",
      "69 minimum_minimum_nights\n",
      "70 maximum_minimum_nights\n",
      "71 minimum_maximum_nights\n",
      "72 maximum_maximum_nights\n",
      "73 minimum_nights_avg_ntm\n",
      "74 maximum_nights_avg_ntm\n",
      "75 calendar_updated\n",
      "76 has_availability\n",
      "77 availability_30\n",
      "78 availability_60\n",
      "79 availability_90\n",
      "80 availability_365\n",
      "81 calendar_last_scraped\n",
      "82 number_of_reviews\n",
      "83 number_of_reviews_ltm\n",
      "84 first_review\n",
      "85 last_review\n",
      "86 review_scores_rating\n",
      "87 review_scores_accuracy\n",
      "88 review_scores_cleanliness\n",
      "89 review_scores_checkin\n",
      "90 review_scores_communication\n",
      "91 review_scores_location\n",
      "92 review_scores_value\n",
      "93 requires_license\n",
      "94 license\n",
      "95 jurisdiction_names\n",
      "96 instant_bookable\n",
      "97 is_business_travel_ready\n",
      "98 cancellation_policy\n",
      "99 require_guest_profile_picture\n",
      "100 require_guest_phone_verification\n",
      "101 calculated_host_listings_count\n",
      "102 calculated_host_listings_count_entire_homes\n",
      "103 calculated_host_listings_count_private_rooms\n",
      "104 calculated_host_listings_count_shared_rooms\n",
      "105 reviews_per_month\n"
     ]
    }
   ],
   "source": [
    "Combined = pd.DataFrame()\n",
    "counter = 0\n",
    "\n",
    "for file in glob.glob(\"All_Data/All_Listings/*.csv.gz\"):\n",
    "    \n",
    "    counter = counter + 1\n",
    "    print('********   City ',counter,':',  file)\n",
    "    data = pd.read_csv(file, compression='gzip', error_bad_lines=False)\n",
    "    print('Shape of file:', data.shape)\n",
    "    Combined = Combined.append(data)\n",
    "    print('Shape of Combined:',Combined.shape)\n",
    "    \n",
    "print('*************************')\n",
    "\n",
    "Combined_Listings = Combined.to_csv ('Combined_Listings.csv.gz', index = None, header=True, compression='gzip')\n",
    "\n",
    "print('Shape of Combined:',Combined.shape)\n",
    "\n",
    "for index, col in enumerate(Combined.columns): \n",
    "    print(index, col)"
   ]
  },
  {
   "cell_type": "markdown",
   "metadata": {},
   "source": [
    "# Add Gender to Host Names"
   ]
  },
  {
   "cell_type": "code",
   "execution_count": 3,
   "metadata": {},
   "outputs": [],
   "source": [
    "Combined = pd.read_csv('Combined_Listings.csv.gz', compression='gzip', error_bad_lines=False, low_memory=False)\n",
    "\n",
    "Combined['host_name_has_space'] = np.where(Combined['host_name'].str.contains(' ') , 1, 0)\n",
    "\n",
    "d = gender.Detector()\n",
    "Combined['host_gender'] = Combined['host_name'].apply(d.get_gender)\n",
    "\n",
    "#Combined['gender'] = Combined['host_name'].apply(d.get_gender, 'usa') ### doesn't make a difference\n",
    "\n",
    "Combined.loc[Combined['host_name_has_space'] == 1, 'host_gender'] = 'not_a_name'\n",
    "\n",
    "#print(host)\n",
    "#Host = host.to_csv ('Host_Name.csv', index = None, header=True) "
   ]
  },
  {
   "cell_type": "markdown",
   "metadata": {},
   "source": [
    "# Rearrange Columns and Save Data"
   ]
  },
  {
   "cell_type": "code",
   "execution_count": 4,
   "metadata": {
    "scrolled": false
   },
   "outputs": [],
   "source": [
    "cols = Combined.columns.tolist()\n",
    "cols = cols[:22] + cols [-2:] + cols[22:-2]\n",
    "Combined = Combined[cols]\n",
    "\n",
    "np.savetxt('Columns_Listings.csv', np.asarray(cols),  delimiter=\",\", fmt=\"%s\")\n",
    "\n",
    "#for index, col in enumerate(Combined.columns): \n",
    "#    print(index, col)\n",
    "    \n",
    "Combined_Listings = Combined.to_csv ('Combined_Listings_Gendered.csv.gz', index = None, header=True, compression='gzip')"
   ]
  },
  {
   "cell_type": "markdown",
   "metadata": {},
   "source": [
    "# Filter only Male and Female Hosts"
   ]
  },
  {
   "cell_type": "code",
   "execution_count": 3,
   "metadata": {},
   "outputs": [
    {
     "data": {
      "text/plain": [
       "female    81352\n",
       "male      78509\n",
       "Name: host_gender, dtype: int64"
      ]
     },
     "execution_count": 3,
     "metadata": {},
     "output_type": "execute_result"
    }
   ],
   "source": [
    "Combined = pd.read_csv('Combined_Listings_Gendered.csv.gz', compression='gzip', error_bad_lines=False, low_memory=False)\n",
    "\n",
    "Listings = Combined[Combined['host_gender'].isin(['male', 'female'])]\n",
    "Listings['host_gender'].unique()\n",
    "Listings['host_gender'].value_counts()"
   ]
  },
  {
   "cell_type": "code",
   "execution_count": 11,
   "metadata": {
    "scrolled": false
   },
   "outputs": [
    {
     "data": {
      "text/plain": [
       "100.0    37460\n",
       "98.0     13911\n",
       "99.0     12344\n",
       "97.0     11128\n",
       "96.0      9584\n",
       "95.0      7812\n",
       "93.0      6292\n",
       "94.0      5346\n",
       "90.0      4378\n",
       "92.0      3446\n",
       "80.0      3128\n",
       "91.0      2861\n",
       "89.0      1750\n",
       "87.0      1690\n",
       "88.0      1631\n",
       "85.0       896\n",
       "86.0       823\n",
       "60.0       754\n",
       "84.0       732\n",
       "83.0       569\n",
       "70.0       313\n",
       "82.0       286\n",
       "73.0       269\n",
       "20.0       261\n",
       "40.0       181\n",
       "75.0       171\n",
       "78.0       166\n",
       "81.0       165\n",
       "77.0       150\n",
       "76.0       145\n",
       "67.0       111\n",
       "79.0        79\n",
       "50.0        70\n",
       "72.0        62\n",
       "74.0        54\n",
       "65.0        43\n",
       "68.0        40\n",
       "71.0        40\n",
       "64.0        22\n",
       "53.0        20\n",
       "69.0        14\n",
       "66.0        14\n",
       "30.0        12\n",
       "47.0         9\n",
       "63.0         9\n",
       "56.0         8\n",
       "55.0         8\n",
       "62.0         5\n",
       "57.0         2\n",
       "33.0         2\n",
       "45.0         2\n",
       "52.0         1\n",
       "48.0         1\n",
       "35.0         1\n",
       "Name: review_scores_rating, dtype: int64"
      ]
     },
     "execution_count": 11,
     "metadata": {},
     "output_type": "execute_result"
    }
   ],
   "source": [
    "Listings['review_scores_rating'].value_counts()"
   ]
  },
  {
   "cell_type": "code",
   "execution_count": null,
   "metadata": {
    "scrolled": false
   },
   "outputs": [],
   "source": [
    "Combined = pd.read_csv('Combined_Listings.csv.gz', compression='gzip', error_bad_lines=False, low_memory=False)\n",
    "\n",
    "host = pd.DataFrame(Combined.loc[:, 'host_name'])\n",
    "host['name_has_space'] = np.where(host['host_name'].str.contains(' ') , 1, 0)\n",
    "\n",
    "host['gender'] = host['host_name'].apply(d.get_gender)\n",
    "#host['gender'] = host['host_name'].apply(d.get_gender, 'usa') ### doesn't make a difference\n",
    "\n",
    "host.loc[host['name_has_space'] == 1, 'gender'] = 'not_a_name'\n",
    "Host = host.to_csv ('Host_Name.csv', index = None, header=True) "
   ]
  },
  {
   "cell_type": "code",
   "execution_count": null,
   "metadata": {},
   "outputs": [],
   "source": [
    "data1 = pd.read_csv('All_Listings/Asheville_listings.csv.gz', compression='gzip',\n",
    "                   error_bad_lines=False)\n",
    "print(data1.shape)\n",
    "#data1.insert(0,'Location','Asheville')\n",
    "#data1.insert(0,'State','NC')\n",
    "#print(data1.shape)\n",
    "\n",
    "Combined = data1\n",
    "\n",
    "def combine(data):\n",
    "    \n",
    "    print(data.shape)\n",
    "    #data.insert(0,'Location', loc)\n",
    "    #data.insert(0,'State',state)\n",
    "    #print(data.shape)\n",
    "    Combined.append(data)\n",
    "    print(Combined.shape)"
   ]
  },
  {
   "cell_type": "code",
   "execution_count": null,
   "metadata": {},
   "outputs": [
    {
     "name": "stdout",
     "output_type": "stream",
     "text": [
      "Collecting package metadata (repodata.json): done\n",
      "Solving environment: / \n",
      "The environment is inconsistent, please check the package plan carefully\n",
      "The following packages are causing the inconsistency:\n",
      "\n",
      "  - defaults/osx-64::numba==0.38.1=py36h6440ff4_0\n",
      "  - defaults/osx-64::astropy==3.0.3=py36h1de35cc_2\n",
      "  - https://repo.continuum.io/pkgs/main/osx-64/datashape-0.5.4-py36hfb22df8_0.tar.bz2/osx-64::datashape==0.5.4=py36hfb22df8_0\n",
      "  - defaults/osx-64::bokeh==0.13.0=py36_0\n",
      "  - https://repo.continuum.io/pkgs/main/osx-64/bottleneck-1.2.1-py36hbd380ad_0.tar.bz2/osx-64::bottleneck==1.2.1=py36hbd380ad_0\n",
      "  - defaults/osx-64::pytest-doctestplus==0.1.3=py36_0\n",
      "  - defaults/osx-64::pytables==3.4.4=py36h5ca999c_0\n",
      "  - defaults/osx-64::dask==0.18.1=py36_0\n",
      "  - defaults/osx-64::matplotlib==2.2.2=py36ha7267d0_0\n",
      "  - defaults/osx-64::imageio==2.3.0=py36_0\n",
      "  - https://repo.continuum.io/pkgs/main/osx-64/blaze-0.11.3-py36h02e7a37_0.tar.bz2/osx-64::blaze==0.11.3=py36h02e7a37_0\n",
      "  - defaults/osx-64::statsmodels==0.9.0=py36h917ab60_0\n",
      "  - https://repo.continuum.io/pkgs/main/osx-64/scikit-learn-0.19.1-py36hffbff8c_0.tar.bz2/osx-64::scikit-learn==0.19.1=py36hffbff8c_0\n",
      "  - defaults/osx-64::pytest-astropy==0.4.0=py36_0\n",
      "  - defaults/osx-64::h5py==2.8.0=py36ha8ecd60_0\n",
      "  - defaults/osx-64::pandas==0.23.1=py36h1702cab_0\n",
      "  - https://repo.continuum.io/pkgs/main/osx-64/odo-0.5.1-py36hc1af34a_0.tar.bz2/osx-64::odo==0.5.1=py36hc1af34a_0\n",
      "  - defaults/osx-64::scikit-image==0.14.0=py36h0a44026_1\n",
      "  - https://repo.continuum.io/pkgs/main/osx-64/pywavelets-0.5.2-py36h2710a04_0.tar.bz2/osx-64::pywavelets==0.5.2=py36h2710a04_0\n",
      "  - defaults/osx-64::numexpr==2.6.5=py36h057f876_0\n",
      "  - defaults/osx-64::scipy==1.1.0=py36hcaad992_0\n",
      "  - defaults/osx-64::numpy-base==1.14.5=py36ha9ae307_0\n",
      "  - https://repo.continuum.io/pkgs/main/osx-64/seaborn-0.8.1-py36h595ecd9_0.tar.bz2/osx-64::seaborn==0.8.1=py36h595ecd9_0\n",
      "  - defaults/osx-64::pytest-arraydiff==0.2=py36_0\n",
      "  - defaults/osx-64::mkl_random==1.0.1=py36h78cc56f_0\n",
      "  - defaults/osx-64::mkl_fft==1.0.1=py36h917ab60_0\n",
      "  - defaults/osx-64::numpy==1.14.5=py36h9bb19eb_0\n",
      "  - https://repo.continuum.io/pkgs/main/osx-64/bkcharts-0.2-py36h073222e_0.tar.bz2/osx-64::bkcharts==0.2=py36h073222e_0\n",
      "  - https://repo.continuum.io/pkgs/main/osx-64/patsy-0.5.0-py36_0.tar.bz2/osx-64::patsy==0.5.0=py36_0\n",
      "/ \n",
      "Warning: >10 possible package resolutions (only showing differing packages):\n",
      "  - https://repo.continuum.io/pkgs/main/osx-64/conda-env-2.6.0-h36134e3_0.tar.bz2/osx-64::conda-env-2.6.0-h36134e3_0, https://repo.continuum.io/pkgs/main/osx-64/jbig-2.1-h4d881f8_0.tar.bz2/osx-64::jbig-2.1-h4d881f8_0, https://repo.continuum.io/pkgs/main/osx-64/lzo-2.10-h362108e_2.tar.bz2/osx-64::lzo-2.10-h362108e_2, https://repo.continuum.io/pkgs/main/osx-64/osx-64::libntlm-1.4-h1de35cc_2\n",
      "  - defaults/osx-64::conda-env-2.6.0-h36134e3_0, https://repo.continuum.io/pkgs/main/osx-64/jbig-2.1-h4d881f8_0.tar.bz2/osx-64::jbig-2.1-h4d881f8_0, https://repo.continuum.io/pkgs/main/osx-64/lzo-2.10-h362108e_2.tar.bz2/osx-64::lzo-2.10-h362108e_2, https://repo.continuum.io/pkgs/main/osx-64/osx-64::libntlm-1.4-h1de35cc_2\n",
      "  - defaults/osx-64::jbig-2.1-h4d881f8_0, https://repo.continuum.io/pkgs/main/osx-64/conda-env-2.6.0-h36134e3_0.tar.bz2/osx-64::conda-env-2.6.0-h36134e3_0, https://repo.continuum.io/pkgs/main/osx-64/lzo-2.10-h362108e_2.tar.bz2/osx-64::lzo-2.10-h362108e_2, https://repo.continuum.io/pkgs/main/osx-64/osx-64::libntlm-1.4-h1de35cc_2\n",
      "  - defaults/osx-64::conda-env-2.6.0-h36134e3_0, defaults/osx-64::jbig-2.1-h4d881f8_0, https://repo.continuum.io/pkgs/main/osx-64/lzo-2.10-h362108e_2.tar.bz2/osx-64::lzo-2.10-h362108e_2, https://repo.continuum.io/pkgs/main/osx-64/osx-64::libntlm-1.4-h1de35cc_2\n",
      "  - defaults/osx-64::jbig-2.1-h4d881f8_0, defaults/osx-64::libntlm-1.4-h1de35cc_2, https://repo.continuum.io/pkgs/main/osx-64/conda-env-2.6.0-h36134e3_0.tar.bz2/osx-64::conda-env-2.6.0-h36134e3_0, https://repo.continuum.io/pkgs/main/osx-64/lzo-2.10-h362108e_2.tar.bz2/osx-64::lzo-2.10-h362108e_2\n",
      "  - defaults/osx-64::conda-env-2.6.0-h36134e3_0, defaults/osx-64::jbig-2.1-h4d881f8_0, defaults/osx-64::libntlm-1.4-h1de35cc_2, https://repo.continuum.io/pkgs/main/osx-64/lzo-2.10-h362108e_2.tar.bz2/osx-64::lzo-2.10-h362108e_2\n",
      "  - defaults/osx-64::libntlm-1.4-h1de35cc_2, https://repo.continuum.io/pkgs/main/osx-64/conda-env-2.6.0-h36134e3_0.tar.bz2/osx-64::conda-env-2.6.0-h36134e3_0, https://repo.continuum.io/pkgs/main/osx-64/jbig-2.1-h4d881f8_0.tar.bz2/osx-64::jbig-2.1-h4d881f8_0, https://repo.continuum.io/pkgs/main/osx-64/lzo-2.10-h362108e_2.tar.bz2/osx-64::lzo-2.10-h362108e_2\n",
      "  - defaults/osx-64::conda-env-2.6.0-h36134e3_0, defaults/osx-64::libntlm-1.4-h1de35cc_2, https://repo.continuum.io/pkgs/main/osx-64/jbig-2.1-h4d881f8_0.tar.bz2/osx-64::jbig-2.1-h4d881f8_0, https://repo.continuum.io/pkgs/main/osx-64/lzo-2.10-h362108e_2.tar.bz2/osx-64::lzo-2.10-h362108e_2\n",
      "  - defaults/osx-64::libntlm-1.4-h1de35cc_2, defaults/osx-64::lzo-2.10-h362108e_2, https://repo.continuum.io/pkgs/main/osx-64/conda-env-2.6.0-h36134e3_0.tar.bz2/osx-64::conda-env-2.6.0-h36134e3_0, https://repo.continuum.io/pkgs/main/osx-64/jbig-2.1-h4d881f8_0.tar.bz2/osx-64::jbig-2.1-h4d881f8_0\n",
      "  - defaults/osx-64::lzo-2.10-h362108e_2, https://repo.continuum.io/pkgs/main/osx-64/conda-env-2.6.0-h36134e3_0.tar.bz2/osx-64::conda-env-2.6.0-h36134e3_0, https://repo.continuum.io/pkgs/main/osx-64/jbig-2.1-h4d881f8_0.tar.bz2/osx-64::jbig-2.1-h4d881f8_0, https://repo.continuum.io/pkgs/main/osx-64/osx-64::libntlm-1.4-h1de35cc_2\n",
      "  ... and othedone\n",
      "\n",
      "## Package Plan ##\n",
      "\n",
      "  environment location: /anaconda3\n",
      "\n",
      "  added / updated specs:\n",
      "    - scrapy\n",
      "\n",
      "\n",
      "The following packages will be downloaded:\n",
      "\n",
      "    package                    |            build\n",
      "    ---------------------------|-----------------\n",
      "    _r-mutex-1.0.0             |      anacondar_1           2 KB\n",
      "    matplotlib-3.0.0           |   py36h54f8f79_0         6.8 MB\n",
      "    rstudio-1.1.383            |       h4814094_2        30.0 MB\n",
      "    tbb-2019.8                 |       h04f5b5a_0         166 KB\n",
      "    tbb4py-2019.8              |   py36h04f5b5a_0          64 KB\n",
      "    ------------------------------------------------------------\n",
      "                                           Total:        37.1 MB\n",
      "\n",
      "The following NEW packages will be INSTALLED:\n",
      "\n",
      "  tbb                pkgs/main/osx-64::tbb-2019.8-h04f5b5a_0\n",
      "  tbb4py             pkgs/main/osx-64::tbb4py-2019.8-py36h04f5b5a_0\n",
      "\n",
      "The following packages will be UPDATED:\n",
      "\n",
      "  matplotlib                           2.2.2-py36ha7267d0_0 --> 3.0.0-py36h54f8f79_0\n",
      "\n",
      "The following packages will be DOWNGRADED:\n",
      "\n",
      "  _r-mutex                                                  --> \n",
      "  rstudio                                1.1.423-hb125a76_0 --> 1.1.383-h4814094_2\n",
      "\n",
      "\n",
      "Proceed ([y]/n)? "
     ]
    }
   ],
   "source": [
    "!conda install scrapy"
   ]
  },
  {
   "cell_type": "code",
   "execution_count": null,
   "metadata": {},
   "outputs": [],
   "source": [
    "y"
   ]
  },
  {
   "cell_type": "code",
   "execution_count": null,
   "metadata": {},
   "outputs": [],
   "source": []
  },
  {
   "cell_type": "code",
   "execution_count": null,
   "metadata": {},
   "outputs": [],
   "source": []
  }
 ],
 "metadata": {
  "kernelspec": {
   "display_name": "Python 3",
   "language": "python",
   "name": "python3"
  },
  "language_info": {
   "codemirror_mode": {
    "name": "ipython",
    "version": 3
   },
   "file_extension": ".py",
   "mimetype": "text/x-python",
   "name": "python",
   "nbconvert_exporter": "python",
   "pygments_lexer": "ipython3",
   "version": "3.6.10"
  }
 },
 "nbformat": 4,
 "nbformat_minor": 2
}
