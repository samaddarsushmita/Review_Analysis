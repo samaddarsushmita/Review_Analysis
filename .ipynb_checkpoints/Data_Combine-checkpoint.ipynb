{
 "cells": [
  {
   "cell_type": "code",
   "execution_count": 1,
   "metadata": {},
   "outputs": [],
   "source": [
    "import pandas as pd\n",
    "import glob, os\n",
    "#os.chdir(\"All_Listings/\")\n",
    "\n",
    "import numpy as np\n",
    "#!pip install --upgrade pip\n",
    "#!pip install gender-guesser\n",
    "\n",
    "import gender_guesser.detector as gender"
   ]
  },
  {
   "cell_type": "markdown",
   "metadata": {},
   "source": [
    "# Combine All Listing Data"
   ]
  },
  {
   "cell_type": "code",
   "execution_count": 2,
   "metadata": {
    "scrolled": false
   },
   "outputs": [
    {
     "name": "stdout",
     "output_type": "stream",
     "text": [
      "********   City  1 : All_Data/All_Listings/Chicago_listings.csv.gz\n"
     ]
    },
    {
     "name": "stderr",
     "output_type": "stream",
     "text": [
      "/anaconda3/lib/python3.6/site-packages/IPython/core/interactiveshell.py:2785: DtypeWarning: Columns (61,62) have mixed types. Specify dtype option on import or set low_memory=False.\n",
      "  interactivity=interactivity, compiler=compiler, result=result)\n"
     ]
    },
    {
     "name": "stdout",
     "output_type": "stream",
     "text": [
      "Shape of file: (8533, 106)\n",
      "Shape of Combined: (8533, 106)\n",
      "********   City  2 : All_Data/All_Listings/Cambridge_listings.csv.gz\n",
      "Shape of file: (1277, 106)\n",
      "Shape of Combined: (9810, 106)\n",
      "********   City  3 : All_Data/All_Listings/RhodeIsland_listings.csv.gz\n",
      "Shape of file: (3876, 106)\n",
      "Shape of Combined: (13686, 106)\n",
      "********   City  4 : All_Data/All_Listings/Denver_listings.csv.gz\n",
      "Shape of file: (4865, 106)\n",
      "Shape of Combined: (18551, 106)\n",
      "********   City  5 : All_Data/All_Listings/SanDiego_listings.csv.gz\n"
     ]
    },
    {
     "name": "stderr",
     "output_type": "stream",
     "text": [
      "/anaconda3/lib/python3.6/site-packages/IPython/core/interactiveshell.py:2785: DtypeWarning: Columns (43,94) have mixed types. Specify dtype option on import or set low_memory=False.\n",
      "  interactivity=interactivity, compiler=compiler, result=result)\n"
     ]
    },
    {
     "name": "stdout",
     "output_type": "stream",
     "text": [
      "Shape of file: (13574, 106)\n",
      "Shape of Combined: (32125, 106)\n",
      "********   City  6 : All_Data/All_Listings/PacificGrove_listings.csv.gz\n",
      "Shape of file: (218, 106)\n",
      "Shape of Combined: (32343, 106)\n",
      "********   City  7 : All_Data/All_Listings/Seattle_listings.csv.gz\n"
     ]
    },
    {
     "name": "stderr",
     "output_type": "stream",
     "text": [
      "/anaconda3/lib/python3.6/site-packages/IPython/core/interactiveshell.py:2785: DtypeWarning: Columns (43,61,62) have mixed types. Specify dtype option on import or set low_memory=False.\n",
      "  interactivity=interactivity, compiler=compiler, result=result)\n"
     ]
    },
    {
     "name": "stdout",
     "output_type": "stream",
     "text": [
      "Shape of file: (9023, 106)\n",
      "Shape of Combined: (41366, 106)\n",
      "********   City  8 : All_Data/All_Listings/SanMateo_listings.csv.gz\n",
      "Shape of file: (7, 106)\n",
      "Shape of Combined: (41373, 106)\n",
      "********   City  9 : All_Data/All_Listings/Broward_listings.csv.gz\n",
      "Shape of file: (10325, 106)\n",
      "Shape of Combined: (51698, 106)\n",
      "********   City  10 : All_Data/All_Listings/Salem_listings.csv.gz\n",
      "Shape of file: (197, 106)\n",
      "Shape of Combined: (51895, 106)\n",
      "********   City  11 : All_Data/All_Listings/Boston_listings.csv.gz\n",
      "Shape of file: (3507, 106)\n",
      "Shape of Combined: (55402, 106)\n",
      "********   City  12 : All_Data/All_Listings/Washington_listings.csv.gz\n",
      "Shape of file: (9152, 106)\n",
      "Shape of Combined: (64554, 106)\n",
      "********   City  13 : All_Data/All_Listings/Austin_listings.csv.gz\n",
      "Shape of file: (11250, 106)\n",
      "Shape of Combined: (75804, 106)\n",
      "********   City  14 : All_Data/All_Listings/Oakland_listings.csv.gz\n",
      "Shape of file: (3350, 106)\n",
      "Shape of Combined: (79154, 106)\n",
      "********   City  15 : All_Data/All_Listings/NewYork_listings.csv.gz\n"
     ]
    },
    {
     "name": "stderr",
     "output_type": "stream",
     "text": [
      "/anaconda3/lib/python3.6/site-packages/IPython/core/interactiveshell.py:2785: DtypeWarning: Columns (61,62,94,95) have mixed types. Specify dtype option on import or set low_memory=False.\n",
      "  interactivity=interactivity, compiler=compiler, result=result)\n"
     ]
    },
    {
     "name": "stdout",
     "output_type": "stream",
     "text": [
      "Shape of file: (50599, 106)\n",
      "Shape of Combined: (129753, 106)\n",
      "********   City  16 : All_Data/All_Listings/Columbus_listings.csv.gz\n",
      "Shape of file: (1411, 106)\n",
      "Shape of Combined: (131164, 106)\n",
      "********   City  17 : All_Data/All_Listings/Portland_listings.csv.gz\n",
      "Shape of file: (4793, 106)\n",
      "Shape of Combined: (135957, 106)\n",
      "********   City  18 : All_Data/All_Listings/Asheville_listings.csv.gz\n",
      "Shape of file: (2441, 106)\n",
      "Shape of Combined: (138398, 106)\n",
      "********   City  19 : All_Data/All_Listings/SantaClara_listings.csv.gz\n",
      "Shape of file: (7658, 106)\n",
      "Shape of Combined: (146056, 106)\n",
      "********   City  20 : All_Data/All_Listings/Jersey_listings.csv.gz\n",
      "Shape of file: (3103, 106)\n",
      "Shape of Combined: (149159, 106)\n",
      "********   City  21 : All_Data/All_Listings/SantaCruz_listings.csv.gz\n",
      "Shape of file: (1791, 106)\n",
      "Shape of Combined: (150950, 106)\n",
      "********   City  22 : All_Data/All_Listings/Hawaii_listings.csv.gz\n"
     ]
    },
    {
     "name": "stderr",
     "output_type": "stream",
     "text": [
      "/anaconda3/lib/python3.6/site-packages/IPython/core/interactiveshell.py:2785: DtypeWarning: Columns (61,62,95) have mixed types. Specify dtype option on import or set low_memory=False.\n",
      "  interactivity=interactivity, compiler=compiler, result=result)\n"
     ]
    },
    {
     "name": "stdout",
     "output_type": "stream",
     "text": [
      "Shape of file: (23745, 106)\n",
      "Shape of Combined: (174695, 106)\n",
      "********   City  23 : All_Data/All_Listings/TwinCities_listings.csv.gz\n",
      "Shape of file: (6900, 106)\n",
      "Shape of Combined: (181595, 106)\n",
      "********   City  24 : All_Data/All_Listings/NewOrleans_listings.csv.gz\n",
      "Shape of file: (6520, 106)\n",
      "Shape of Combined: (188115, 106)\n",
      "********   City  25 : All_Data/All_Listings/LosAngeles_listings.csv.gz\n",
      "Shape of file: (40125, 106)\n",
      "Shape of Combined: (228240, 106)\n",
      "********   City  26 : All_Data/All_Listings/Nashville_listings.csv.gz\n",
      "Shape of file: (7396, 106)\n",
      "Shape of Combined: (235636, 106)\n",
      "********   City  27 : All_Data/All_Listings/SanFrancisco_listings.csv.gz\n",
      "Shape of file: (8533, 106)\n",
      "Shape of Combined: (244169, 106)\n",
      "********   City  28 : All_Data/All_Listings/ClarkCounty_listings.csv.gz\n",
      "Shape of file: (10492, 106)\n",
      "Shape of Combined: (254661, 106)\n",
      "*************************\n",
      "Shape of Combined: (254661, 106)\n",
      "0 id\n",
      "1 listing_url\n",
      "2 scrape_id\n",
      "3 last_scraped\n",
      "4 name\n",
      "5 summary\n",
      "6 space\n",
      "7 description\n",
      "8 experiences_offered\n",
      "9 neighborhood_overview\n",
      "10 notes\n",
      "11 transit\n",
      "12 access\n",
      "13 interaction\n",
      "14 house_rules\n",
      "15 thumbnail_url\n",
      "16 medium_url\n",
      "17 picture_url\n",
      "18 xl_picture_url\n",
      "19 host_id\n",
      "20 host_url\n",
      "21 host_name\n",
      "22 host_since\n",
      "23 host_location\n",
      "24 host_about\n",
      "25 host_response_time\n",
      "26 host_response_rate\n",
      "27 host_acceptance_rate\n",
      "28 host_is_superhost\n",
      "29 host_thumbnail_url\n",
      "30 host_picture_url\n",
      "31 host_neighbourhood\n",
      "32 host_listings_count\n",
      "33 host_total_listings_count\n",
      "34 host_verifications\n",
      "35 host_has_profile_pic\n",
      "36 host_identity_verified\n",
      "37 street\n",
      "38 neighbourhood\n",
      "39 neighbourhood_cleansed\n",
      "40 neighbourhood_group_cleansed\n",
      "41 city\n",
      "42 state\n",
      "43 zipcode\n",
      "44 market\n",
      "45 smart_location\n",
      "46 country_code\n",
      "47 country\n",
      "48 latitude\n",
      "49 longitude\n",
      "50 is_location_exact\n",
      "51 property_type\n",
      "52 room_type\n",
      "53 accommodates\n",
      "54 bathrooms\n",
      "55 bedrooms\n",
      "56 beds\n",
      "57 bed_type\n",
      "58 amenities\n",
      "59 square_feet\n",
      "60 price\n",
      "61 weekly_price\n",
      "62 monthly_price\n",
      "63 security_deposit\n",
      "64 cleaning_fee\n",
      "65 guests_included\n",
      "66 extra_people\n",
      "67 minimum_nights\n",
      "68 maximum_nights\n",
      "69 minimum_minimum_nights\n",
      "70 maximum_minimum_nights\n",
      "71 minimum_maximum_nights\n",
      "72 maximum_maximum_nights\n",
      "73 minimum_nights_avg_ntm\n",
      "74 maximum_nights_avg_ntm\n",
      "75 calendar_updated\n",
      "76 has_availability\n",
      "77 availability_30\n",
      "78 availability_60\n",
      "79 availability_90\n",
      "80 availability_365\n",
      "81 calendar_last_scraped\n",
      "82 number_of_reviews\n",
      "83 number_of_reviews_ltm\n",
      "84 first_review\n",
      "85 last_review\n",
      "86 review_scores_rating\n",
      "87 review_scores_accuracy\n",
      "88 review_scores_cleanliness\n",
      "89 review_scores_checkin\n",
      "90 review_scores_communication\n",
      "91 review_scores_location\n",
      "92 review_scores_value\n",
      "93 requires_license\n",
      "94 license\n",
      "95 jurisdiction_names\n",
      "96 instant_bookable\n",
      "97 is_business_travel_ready\n",
      "98 cancellation_policy\n",
      "99 require_guest_profile_picture\n",
      "100 require_guest_phone_verification\n",
      "101 calculated_host_listings_count\n",
      "102 calculated_host_listings_count_entire_homes\n",
      "103 calculated_host_listings_count_private_rooms\n",
      "104 calculated_host_listings_count_shared_rooms\n",
      "105 reviews_per_month\n"
     ]
    }
   ],
   "source": [
    "Combined = pd.DataFrame()\n",
    "counter = 0\n",
    "\n",
    "for file in glob.glob(\"All_Data/All_Listings/*.csv.gz\"):\n",
    "    \n",
    "    counter = counter + 1\n",
    "    print('********   City ',counter,':',  file)\n",
    "    data = pd.read_csv(file, compression='gzip', error_bad_lines=False)\n",
    "    print('Shape of file:', data.shape)\n",
    "    Combined = Combined.append(data)\n",
    "    print('Shape of Combined:',Combined.shape)\n",
    "    \n",
    "print('*************************')\n",
    "\n",
    "Combined_Listings = Combined.to_csv ('Combined_Listings.csv.gz', index = None, header=True, compression='gzip')\n",
    "\n",
    "print('Shape of Combined:',Combined.shape)\n",
    "\n",
    "for index, col in enumerate(Combined.columns): \n",
    "    print(index, col)"
   ]
  },
  {
   "cell_type": "markdown",
   "metadata": {},
   "source": [
    "# Add Gender to Host Names"
   ]
  },
  {
   "cell_type": "code",
   "execution_count": 3,
   "metadata": {},
   "outputs": [],
   "source": [
    "Combined = pd.read_csv('Combined_Listings.csv.gz', compression='gzip', error_bad_lines=False, low_memory=False)\n",
    "\n",
    "Combined['host_name_has_space'] = np.where(Combined['host_name'].str.contains(' ') , 1, 0)\n",
    "\n",
    "d = gender.Detector()\n",
    "Combined['host_gender'] = Combined['host_name'].apply(d.get_gender)\n",
    "\n",
    "#Combined['gender'] = Combined['host_name'].apply(d.get_gender, 'usa') ### doesn't make a difference\n",
    "\n",
    "Combined.loc[Combined['host_name_has_space'] == 1, 'host_gender'] = 'not_a_name'\n",
    "\n",
    "#print(host)\n",
    "#Host = host.to_csv ('Host_Name.csv', index = None, header=True) "
   ]
  },
  {
   "cell_type": "markdown",
   "metadata": {},
   "source": [
    "# Rearrange Columns and Save Data"
   ]
  },
  {
   "cell_type": "code",
   "execution_count": 4,
   "metadata": {
    "scrolled": false
   },
   "outputs": [],
   "source": [
    "cols = Combined.columns.tolist()\n",
    "cols = cols[:22] + cols [-2:] + cols[22:-2]\n",
    "Combined = Combined[cols]\n",
    "\n",
    "np.savetxt('Columns_Listings.csv', np.asarray(cols),  delimiter=\",\", fmt=\"%s\")\n",
    "\n",
    "#for index, col in enumerate(Combined.columns): \n",
    "#    print(index, col)\n",
    "    \n",
    "Combined_Listings = Combined.to_csv ('Combined_Listings_Gendered.csv.gz', index = None, header=True, compression='gzip')"
   ]
  },
  {
   "cell_type": "markdown",
   "metadata": {},
   "source": [
    "# Filter only Male and Female Hosts"
   ]
  },
  {
   "cell_type": "code",
   "execution_count": 9,
   "metadata": {},
   "outputs": [
    {
     "data": {
      "text/plain": [
       "female    81352\n",
       "male      78509\n",
       "Name: host_gender, dtype: int64"
      ]
     },
     "execution_count": 9,
     "metadata": {},
     "output_type": "execute_result"
    }
   ],
   "source": [
    "Combined = pd.read_csv('Combined_Listings_Gendered.csv.gz', compression='gzip', error_bad_lines=False, low_memory=False)\n",
    "\n",
    "Listings = Combined[Combined['host_gender'].isin(['male', 'female'])]\n",
    "Listings['host_gender'].unique()\n",
    "Listings['host_gender'].value_counts()"
   ]
  },
  {
   "cell_type": "code",
   "execution_count": null,
   "metadata": {
    "scrolled": false
   },
   "outputs": [],
   "source": []
  },
  {
   "cell_type": "code",
   "execution_count": null,
   "metadata": {
    "scrolled": false
   },
   "outputs": [],
   "source": [
    "Combined = pd.read_csv('Combined_Listings.csv.gz', compression='gzip', error_bad_lines=False, low_memory=False)\n",
    "\n",
    "host = pd.DataFrame(Combined.loc[:, 'host_name'])\n",
    "host['name_has_space'] = np.where(host['host_name'].str.contains(' ') , 1, 0)\n",
    "\n",
    "host['gender'] = host['host_name'].apply(d.get_gender)\n",
    "#host['gender'] = host['host_name'].apply(d.get_gender, 'usa') ### doesn't make a difference\n",
    "\n",
    "host.loc[host['name_has_space'] == 1, 'gender'] = 'not_a_name'\n",
    "Host = host.to_csv ('Host_Name.csv', index = None, header=True) "
   ]
  },
  {
   "cell_type": "code",
   "execution_count": null,
   "metadata": {},
   "outputs": [],
   "source": [
    "data1 = pd.read_csv('All_Listings/Asheville_listings.csv.gz', compression='gzip',\n",
    "                   error_bad_lines=False)\n",
    "print(data1.shape)\n",
    "#data1.insert(0,'Location','Asheville')\n",
    "#data1.insert(0,'State','NC')\n",
    "#print(data1.shape)\n",
    "\n",
    "Combined = data1\n",
    "\n",
    "def combine(data):\n",
    "    \n",
    "    print(data.shape)\n",
    "    #data.insert(0,'Location', loc)\n",
    "    #data.insert(0,'State',state)\n",
    "    #print(data.shape)\n",
    "    Combined.append(data)\n",
    "    print(Combined.shape)"
   ]
  }
 ],
 "metadata": {
  "kernelspec": {
   "display_name": "Python 3",
   "language": "python",
   "name": "python3"
  },
  "language_info": {
   "codemirror_mode": {
    "name": "ipython",
    "version": 3
   },
   "file_extension": ".py",
   "mimetype": "text/x-python",
   "name": "python",
   "nbconvert_exporter": "python",
   "pygments_lexer": "ipython3",
   "version": "3.6.5"
  }
 },
 "nbformat": 4,
 "nbformat_minor": 2
}
