{
 "cells": [
  {
   "cell_type": "code",
   "execution_count": 2,
   "metadata": {},
   "outputs": [],
   "source": [
    "import pandas as pd\n",
    "pd.set_option(\"display.max_colwidth\", 200)\n",
    "import numpy as np"
   ]
  },
  {
   "cell_type": "code",
   "execution_count": 2,
   "metadata": {},
   "outputs": [],
   "source": [
    "Listings_Mar = pd.read_csv('Combined_Listings.csv.gz', dtype={'host_badge':str,'localized_neighborhood':str,\\\n",
    "                                                             'license':str,'is_hotel':str }, compression='gzip')"
   ]
  },
  {
   "cell_type": "code",
   "execution_count": 3,
   "metadata": {},
   "outputs": [
    {
     "name": "stdout",
     "output_type": "stream",
     "text": [
      "<class 'pandas.core.frame.DataFrame'>\n",
      "RangeIndex: 327146 entries, 0 to 327145\n",
      "Data columns (total 78 columns):\n",
      "listing_id                               327146 non-null int64\n",
      "url                                      327146 non-null object\n",
      "listing_name                             327137 non-null object\n",
      "room_type_category                       327146 non-null object\n",
      "room_and_property_type                   327012 non-null object\n",
      "price                                    327146 non-null float64\n",
      "currency                                 327146 non-null object\n",
      "amt_w_service                            327146 non-null float64\n",
      "rate_type                                327146 non-null object\n",
      "monthly_price_factor                     327146 non-null float64\n",
      "weekly_price_factor                      327146 non-null float64\n",
      "person_capacity                          327146 non-null int64\n",
      "bathrooms                                327044 non-null float64\n",
      "bedrooms                                 326811 non-null float64\n",
      "beds                                     325261 non-null float64\n",
      "min_nights                               327146 non-null int64\n",
      "max_nights                               327146 non-null int64\n",
      "can_instant_book                         327146 non-null bool\n",
      "is_business_travel_ready                 327146 non-null bool\n",
      "is_fully_refundable                      0 non-null float64\n",
      "is_new_listing                           327146 non-null bool\n",
      "host_id                                  327146 non-null int64\n",
      "host_name                                327146 non-null object\n",
      "host_verified_card                       327146 non-null bool\n",
      "host_badge                               4384 non-null object\n",
      "host_identity_verified                   327146 non-null bool\n",
      "is_superhost                             327146 non-null bool\n",
      "host_languages1                          327146 non-null object\n",
      "host_languages2                          132270 non-null object\n",
      "host_location                            274257 non-null object\n",
      "host_member_since                        327146 non-null object\n",
      "host_response_rate                       301373 non-null object\n",
      "host_response_time                       301172 non-null object\n",
      "additional_hosts                         327146 non-null object\n",
      "lat                                      327127 non-null float64\n",
      "lng                                      327127 non-null float64\n",
      "localized_city                           327146 non-null object\n",
      "localized_neighborhood                   155140 non-null object\n",
      "check_in_time                            312028 non-null object\n",
      "check_out_time                           294367 non-null object\n",
      "license                                  43191 non-null object\n",
      "is_hotel                                 327145 non-null object\n",
      "highlights                               314608 non-null object\n",
      "access_details                           181937 non-null object\n",
      "listing_description                      320436 non-null object\n",
      "house_rules                              239192 non-null object\n",
      "interaction_w_host                       206167 non-null object\n",
      "neighborhood_overview                    218078 non-null object\n",
      "notes_for_guests                         169093 non-null object\n",
      "space_description                        263572 non-null object\n",
      "description_summary                      311930 non-null object\n",
      "listing_transit                          191749 non-null object\n",
      "localized_language_name                  326927 non-null object\n",
      "picture_count                            327146 non-null int64\n",
      "reviews_count                            327146 non-null int64\n",
      "star_rating                              217546 non-null float64\n",
      "avg_rating                               217524 non-null float64\n",
      "review_accuracy_percentage               327114 non-null float64\n",
      "review_accuracy_localized_rating         327114 non-null float64\n",
      "review_communication_percentage          327114 non-null float64\n",
      "review_communication_localized_rating    327114 non-null float64\n",
      "review_cleanliness_percentage            327108 non-null float64\n",
      "review_cleanliness_localized_rating      327108 non-null float64\n",
      "review_checkin_percentage                327114 non-null float64\n",
      "review_checkin_localized_rating          327114 non-null float64\n",
      "review_value_percentage                  327113 non-null float64\n",
      "review_value_localized_rating            327113 non-null float64\n",
      "review_location_percentage               327114 non-null float64\n",
      "review_location_localized_rating         327114 non-null float64\n",
      "days_available_monthly                   327146 non-null object\n",
      "cancellation_policy_label                327141 non-null object\n",
      "cancellation_policy_id                   327141 non-null float64\n",
      "cancellation_policy_text                 327141 non-null object\n",
      "cancellation_policy_price_factor         327141 non-null float64\n",
      "search_location                          327146 non-null object\n",
      "host_name_has_space                      327146 non-null int64\n",
      "host_gender                              327146 non-null object\n",
      "Unnamed: 0                               198402 non-null float64\n",
      "dtypes: bool(6), float64(27), int64(8), object(37)\n",
      "memory usage: 181.6+ MB\n"
     ]
    }
   ],
   "source": [
    "Listings_Mar.info()"
   ]
  },
  {
   "cell_type": "code",
   "execution_count": 4,
   "metadata": {
    "scrolled": false
   },
   "outputs": [],
   "source": [
    "Listings_Mar=Listings_Mar.drop(columns=['url','listing_name','room_type_category','currency','amt_w_service','rate_type',\\\n",
    "        'monthly_price_factor','weekly_price_factor','is_business_travel_ready','is_fully_refundable','is_new_listing',\\\n",
    "        'review_accuracy_percentage','review_cleanliness_percentage','review_checkin_percentage','review_value_percentage',\\\n",
    "        'review_location_percentage','cancellation_policy_label','cancellation_policy_text',\\\n",
    "        'cancellation_policy_price_factor','host_name_has_space', 'host_gender','Unnamed: 0'])"
   ]
  },
  {
   "cell_type": "code",
   "execution_count": 5,
   "metadata": {},
   "outputs": [
    {
     "name": "stdout",
     "output_type": "stream",
     "text": [
      "<class 'pandas.core.frame.DataFrame'>\n",
      "RangeIndex: 327146 entries, 0 to 327145\n",
      "Data columns (total 56 columns):\n",
      "listing_id                               327146 non-null int64\n",
      "room_and_property_type                   327012 non-null object\n",
      "price                                    327146 non-null float64\n",
      "person_capacity                          327146 non-null int64\n",
      "bathrooms                                327044 non-null float64\n",
      "bedrooms                                 326811 non-null float64\n",
      "beds                                     325261 non-null float64\n",
      "min_nights                               327146 non-null int64\n",
      "max_nights                               327146 non-null int64\n",
      "can_instant_book                         327146 non-null bool\n",
      "host_id                                  327146 non-null int64\n",
      "host_name                                327146 non-null object\n",
      "host_verified_card                       327146 non-null bool\n",
      "host_badge                               4384 non-null object\n",
      "host_identity_verified                   327146 non-null bool\n",
      "is_superhost                             327146 non-null bool\n",
      "host_languages1                          327146 non-null object\n",
      "host_languages2                          132270 non-null object\n",
      "host_location                            274257 non-null object\n",
      "host_member_since                        327146 non-null object\n",
      "host_response_rate                       301373 non-null object\n",
      "host_response_time                       301172 non-null object\n",
      "additional_hosts                         327146 non-null object\n",
      "lat                                      327127 non-null float64\n",
      "lng                                      327127 non-null float64\n",
      "localized_city                           327146 non-null object\n",
      "localized_neighborhood                   155140 non-null object\n",
      "check_in_time                            312028 non-null object\n",
      "check_out_time                           294367 non-null object\n",
      "license                                  43191 non-null object\n",
      "is_hotel                                 327145 non-null object\n",
      "highlights                               314608 non-null object\n",
      "access_details                           181937 non-null object\n",
      "listing_description                      320436 non-null object\n",
      "house_rules                              239192 non-null object\n",
      "interaction_w_host                       206167 non-null object\n",
      "neighborhood_overview                    218078 non-null object\n",
      "notes_for_guests                         169093 non-null object\n",
      "space_description                        263572 non-null object\n",
      "description_summary                      311930 non-null object\n",
      "listing_transit                          191749 non-null object\n",
      "localized_language_name                  326927 non-null object\n",
      "picture_count                            327146 non-null int64\n",
      "reviews_count                            327146 non-null int64\n",
      "star_rating                              217546 non-null float64\n",
      "avg_rating                               217524 non-null float64\n",
      "review_accuracy_localized_rating         327114 non-null float64\n",
      "review_communication_percentage          327114 non-null float64\n",
      "review_communication_localized_rating    327114 non-null float64\n",
      "review_cleanliness_localized_rating      327108 non-null float64\n",
      "review_checkin_localized_rating          327114 non-null float64\n",
      "review_value_localized_rating            327113 non-null float64\n",
      "review_location_localized_rating         327114 non-null float64\n",
      "days_available_monthly                   327146 non-null object\n",
      "cancellation_policy_id                   327141 non-null float64\n",
      "search_location                          327146 non-null object\n",
      "dtypes: bool(4), float64(16), int64(7), object(29)\n",
      "memory usage: 131.0+ MB\n"
     ]
    }
   ],
   "source": [
    "Listings_Mar.info()"
   ]
  },
  {
   "cell_type": "markdown",
   "metadata": {},
   "source": [
    "# Insert Availability Data"
   ]
  },
  {
   "cell_type": "code",
   "execution_count": 6,
   "metadata": {},
   "outputs": [],
   "source": [
    "Availability = pd.read_csv('Availability_Dip.csv.gz', compression='gzip')"
   ]
  },
  {
   "cell_type": "code",
   "execution_count": 7,
   "metadata": {},
   "outputs": [
    {
     "name": "stdout",
     "output_type": "stream",
     "text": [
      "<class 'pandas.core.frame.DataFrame'>\n",
      "RangeIndex: 327146 entries, 0 to 327145\n",
      "Data columns (total 15 columns):\n",
      "listing_id                327146 non-null int64\n",
      "days_available_monthly    327146 non-null object\n",
      "host_name_has_space       327146 non-null int64\n",
      "Month1                    327146 non-null int64\n",
      "Month2                    327146 non-null int64\n",
      "Month3                    327146 non-null int64\n",
      "Month4                    327146 non-null int64\n",
      "Month5                    327146 non-null int64\n",
      "Month6                    327146 non-null int64\n",
      "Month7                    327146 non-null int64\n",
      "Month8                    327146 non-null int64\n",
      "Month9                    327146 non-null int64\n",
      "Month10                   327146 non-null int64\n",
      "Month11                   327146 non-null int64\n",
      "Month12                   327146 non-null int64\n",
      "dtypes: int64(14), object(1)\n",
      "memory usage: 37.4+ MB\n"
     ]
    }
   ],
   "source": [
    "Availability.info()"
   ]
  },
  {
   "cell_type": "code",
   "execution_count": 8,
   "metadata": {},
   "outputs": [],
   "source": [
    "Listings_Mar = pd.merge(left=Listings_Mar, right=Availability, left_on='listing_id', right_on='listing_id',how = 'inner')"
   ]
  },
  {
   "cell_type": "code",
   "execution_count": 9,
   "metadata": {},
   "outputs": [
    {
     "name": "stdout",
     "output_type": "stream",
     "text": [
      "<class 'pandas.core.frame.DataFrame'>\n",
      "Int64Index: 327146 entries, 0 to 327145\n",
      "Data columns (total 70 columns):\n",
      "listing_id                               327146 non-null int64\n",
      "room_and_property_type                   327012 non-null object\n",
      "price                                    327146 non-null float64\n",
      "person_capacity                          327146 non-null int64\n",
      "bathrooms                                327044 non-null float64\n",
      "bedrooms                                 326811 non-null float64\n",
      "beds                                     325261 non-null float64\n",
      "min_nights                               327146 non-null int64\n",
      "max_nights                               327146 non-null int64\n",
      "can_instant_book                         327146 non-null bool\n",
      "host_id                                  327146 non-null int64\n",
      "host_name                                327146 non-null object\n",
      "host_verified_card                       327146 non-null bool\n",
      "host_badge                               4384 non-null object\n",
      "host_identity_verified                   327146 non-null bool\n",
      "is_superhost                             327146 non-null bool\n",
      "host_languages1                          327146 non-null object\n",
      "host_languages2                          132270 non-null object\n",
      "host_location                            274257 non-null object\n",
      "host_member_since                        327146 non-null object\n",
      "host_response_rate                       301373 non-null object\n",
      "host_response_time                       301172 non-null object\n",
      "additional_hosts                         327146 non-null object\n",
      "lat                                      327127 non-null float64\n",
      "lng                                      327127 non-null float64\n",
      "localized_city                           327146 non-null object\n",
      "localized_neighborhood                   155140 non-null object\n",
      "check_in_time                            312028 non-null object\n",
      "check_out_time                           294367 non-null object\n",
      "license                                  43191 non-null object\n",
      "is_hotel                                 327145 non-null object\n",
      "highlights                               314608 non-null object\n",
      "access_details                           181937 non-null object\n",
      "listing_description                      320436 non-null object\n",
      "house_rules                              239192 non-null object\n",
      "interaction_w_host                       206167 non-null object\n",
      "neighborhood_overview                    218078 non-null object\n",
      "notes_for_guests                         169093 non-null object\n",
      "space_description                        263572 non-null object\n",
      "description_summary                      311930 non-null object\n",
      "listing_transit                          191749 non-null object\n",
      "localized_language_name                  326927 non-null object\n",
      "picture_count                            327146 non-null int64\n",
      "reviews_count                            327146 non-null int64\n",
      "star_rating                              217546 non-null float64\n",
      "avg_rating                               217524 non-null float64\n",
      "review_accuracy_localized_rating         327114 non-null float64\n",
      "review_communication_percentage          327114 non-null float64\n",
      "review_communication_localized_rating    327114 non-null float64\n",
      "review_cleanliness_localized_rating      327108 non-null float64\n",
      "review_checkin_localized_rating          327114 non-null float64\n",
      "review_value_localized_rating            327113 non-null float64\n",
      "review_location_localized_rating         327114 non-null float64\n",
      "days_available_monthly_x                 327146 non-null object\n",
      "cancellation_policy_id                   327141 non-null float64\n",
      "search_location                          327146 non-null object\n",
      "days_available_monthly_y                 327146 non-null object\n",
      "host_name_has_space                      327146 non-null int64\n",
      "Month1                                   327146 non-null int64\n",
      "Month2                                   327146 non-null int64\n",
      "Month3                                   327146 non-null int64\n",
      "Month4                                   327146 non-null int64\n",
      "Month5                                   327146 non-null int64\n",
      "Month6                                   327146 non-null int64\n",
      "Month7                                   327146 non-null int64\n",
      "Month8                                   327146 non-null int64\n",
      "Month9                                   327146 non-null int64\n",
      "Month10                                  327146 non-null int64\n",
      "Month11                                  327146 non-null int64\n",
      "Month12                                  327146 non-null int64\n",
      "dtypes: bool(4), float64(16), int64(20), object(30)\n",
      "memory usage: 168.5+ MB\n"
     ]
    }
   ],
   "source": [
    "Listings_Mar.info()"
   ]
  },
  {
   "cell_type": "markdown",
   "metadata": {},
   "source": [
    "# Add Host Gender"
   ]
  },
  {
   "cell_type": "code",
   "execution_count": 10,
   "metadata": {},
   "outputs": [],
   "source": [
    "Host_Gender = pd.read_csv('All_Host_Names_v3.csv.gz', compression='gzip')"
   ]
  },
  {
   "cell_type": "code",
   "execution_count": 11,
   "metadata": {},
   "outputs": [
    {
     "name": "stdout",
     "output_type": "stream",
     "text": [
      "<class 'pandas.core.frame.DataFrame'>\n",
      "RangeIndex: 37307 entries, 0 to 37306\n",
      "Data columns (total 6 columns):\n",
      "Unnamed: 0           37307 non-null int64\n",
      "host_name            37307 non-null object\n",
      "parts_of_speech      37307 non-null object\n",
      "proportion_female    12939 non-null float64\n",
      "host_gender_r        12939 non-null object\n",
      "host_gender_py       37307 non-null object\n",
      "dtypes: float64(1), int64(1), object(4)\n",
      "memory usage: 1.7+ MB\n"
     ]
    }
   ],
   "source": [
    "Host_Gender.info()"
   ]
  },
  {
   "cell_type": "code",
   "execution_count": 15,
   "metadata": {},
   "outputs": [],
   "source": [
    "Listings_Mar = pd.merge(left=Listings_Mar, right=Host_Gender, left_on='host_name', right_on='host_name',how = 'left')"
   ]
  },
  {
   "cell_type": "code",
   "execution_count": 16,
   "metadata": {},
   "outputs": [
    {
     "name": "stdout",
     "output_type": "stream",
     "text": [
      "<class 'pandas.core.frame.DataFrame'>\n",
      "Int64Index: 327146 entries, 0 to 327145\n",
      "Data columns (total 75 columns):\n",
      "listing_id                               327146 non-null int64\n",
      "room_and_property_type                   327012 non-null object\n",
      "price                                    327146 non-null float64\n",
      "person_capacity                          327146 non-null int64\n",
      "bathrooms                                327044 non-null float64\n",
      "bedrooms                                 326811 non-null float64\n",
      "beds                                     325261 non-null float64\n",
      "min_nights                               327146 non-null int64\n",
      "max_nights                               327146 non-null int64\n",
      "can_instant_book                         327146 non-null bool\n",
      "host_id                                  327146 non-null int64\n",
      "host_name                                327146 non-null object\n",
      "host_verified_card                       327146 non-null bool\n",
      "host_badge                               4384 non-null object\n",
      "host_identity_verified                   327146 non-null bool\n",
      "is_superhost                             327146 non-null bool\n",
      "host_languages1                          327146 non-null object\n",
      "host_languages2                          132270 non-null object\n",
      "host_location                            274257 non-null object\n",
      "host_member_since                        327146 non-null object\n",
      "host_response_rate                       301373 non-null object\n",
      "host_response_time                       301172 non-null object\n",
      "additional_hosts                         327146 non-null object\n",
      "lat                                      327127 non-null float64\n",
      "lng                                      327127 non-null float64\n",
      "localized_city                           327146 non-null object\n",
      "localized_neighborhood                   155140 non-null object\n",
      "check_in_time                            312028 non-null object\n",
      "check_out_time                           294367 non-null object\n",
      "license                                  43191 non-null object\n",
      "is_hotel                                 327145 non-null object\n",
      "highlights                               314608 non-null object\n",
      "access_details                           181937 non-null object\n",
      "listing_description                      320436 non-null object\n",
      "house_rules                              239192 non-null object\n",
      "interaction_w_host                       206167 non-null object\n",
      "neighborhood_overview                    218078 non-null object\n",
      "notes_for_guests                         169093 non-null object\n",
      "space_description                        263572 non-null object\n",
      "description_summary                      311930 non-null object\n",
      "listing_transit                          191749 non-null object\n",
      "localized_language_name                  326927 non-null object\n",
      "picture_count                            327146 non-null int64\n",
      "reviews_count                            327146 non-null int64\n",
      "star_rating                              217546 non-null float64\n",
      "avg_rating                               217524 non-null float64\n",
      "review_accuracy_localized_rating         327114 non-null float64\n",
      "review_communication_percentage          327114 non-null float64\n",
      "review_communication_localized_rating    327114 non-null float64\n",
      "review_cleanliness_localized_rating      327108 non-null float64\n",
      "review_checkin_localized_rating          327114 non-null float64\n",
      "review_value_localized_rating            327113 non-null float64\n",
      "review_location_localized_rating         327114 non-null float64\n",
      "days_available_monthly_x                 327146 non-null object\n",
      "cancellation_policy_id                   327141 non-null float64\n",
      "search_location                          327146 non-null object\n",
      "days_available_monthly_y                 327146 non-null object\n",
      "host_name_has_space                      327146 non-null int64\n",
      "Month1                                   327146 non-null int64\n",
      "Month2                                   327146 non-null int64\n",
      "Month3                                   327146 non-null int64\n",
      "Month4                                   327146 non-null int64\n",
      "Month5                                   327146 non-null int64\n",
      "Month6                                   327146 non-null int64\n",
      "Month7                                   327146 non-null int64\n",
      "Month8                                   327146 non-null int64\n",
      "Month9                                   327146 non-null int64\n",
      "Month10                                  327146 non-null int64\n",
      "Month11                                  327146 non-null int64\n",
      "Month12                                  327146 non-null int64\n",
      "Unnamed: 0                               327146 non-null int64\n",
      "parts_of_speech                          327146 non-null object\n",
      "proportion_female                        224709 non-null float64\n",
      "host_gender_r                            224709 non-null object\n",
      "host_gender_py                           327146 non-null object\n",
      "dtypes: bool(4), float64(17), int64(21), object(33)\n",
      "memory usage: 181.0+ MB\n"
     ]
    }
   ],
   "source": [
    "Listings_Mar.info()"
   ]
  },
  {
   "cell_type": "code",
   "execution_count": 17,
   "metadata": {},
   "outputs": [],
   "source": [
    "Listings_Mar=Listings_Mar.drop(columns=['days_available_monthly_x','days_available_monthly_y','host_name_has_space','Unnamed: 0'])"
   ]
  },
  {
   "cell_type": "code",
   "execution_count": 18,
   "metadata": {},
   "outputs": [
    {
     "name": "stdout",
     "output_type": "stream",
     "text": [
      "<class 'pandas.core.frame.DataFrame'>\n",
      "Int64Index: 327146 entries, 0 to 327145\n",
      "Data columns (total 71 columns):\n",
      "listing_id                               327146 non-null int64\n",
      "room_and_property_type                   327012 non-null object\n",
      "price                                    327146 non-null float64\n",
      "person_capacity                          327146 non-null int64\n",
      "bathrooms                                327044 non-null float64\n",
      "bedrooms                                 326811 non-null float64\n",
      "beds                                     325261 non-null float64\n",
      "min_nights                               327146 non-null int64\n",
      "max_nights                               327146 non-null int64\n",
      "can_instant_book                         327146 non-null bool\n",
      "host_id                                  327146 non-null int64\n",
      "host_name                                327146 non-null object\n",
      "host_verified_card                       327146 non-null bool\n",
      "host_badge                               4384 non-null object\n",
      "host_identity_verified                   327146 non-null bool\n",
      "is_superhost                             327146 non-null bool\n",
      "host_languages1                          327146 non-null object\n",
      "host_languages2                          132270 non-null object\n",
      "host_location                            274257 non-null object\n",
      "host_member_since                        327146 non-null object\n",
      "host_response_rate                       301373 non-null object\n",
      "host_response_time                       301172 non-null object\n",
      "additional_hosts                         327146 non-null object\n",
      "lat                                      327127 non-null float64\n",
      "lng                                      327127 non-null float64\n",
      "localized_city                           327146 non-null object\n",
      "localized_neighborhood                   155140 non-null object\n",
      "check_in_time                            312028 non-null object\n",
      "check_out_time                           294367 non-null object\n",
      "license                                  43191 non-null object\n",
      "is_hotel                                 327145 non-null object\n",
      "highlights                               314608 non-null object\n",
      "access_details                           181937 non-null object\n",
      "listing_description                      320436 non-null object\n",
      "house_rules                              239192 non-null object\n",
      "interaction_w_host                       206167 non-null object\n",
      "neighborhood_overview                    218078 non-null object\n",
      "notes_for_guests                         169093 non-null object\n",
      "space_description                        263572 non-null object\n",
      "description_summary                      311930 non-null object\n",
      "listing_transit                          191749 non-null object\n",
      "localized_language_name                  326927 non-null object\n",
      "picture_count                            327146 non-null int64\n",
      "reviews_count                            327146 non-null int64\n",
      "star_rating                              217546 non-null float64\n",
      "avg_rating                               217524 non-null float64\n",
      "review_accuracy_localized_rating         327114 non-null float64\n",
      "review_communication_percentage          327114 non-null float64\n",
      "review_communication_localized_rating    327114 non-null float64\n",
      "review_cleanliness_localized_rating      327108 non-null float64\n",
      "review_checkin_localized_rating          327114 non-null float64\n",
      "review_value_localized_rating            327113 non-null float64\n",
      "review_location_localized_rating         327114 non-null float64\n",
      "cancellation_policy_id                   327141 non-null float64\n",
      "search_location                          327146 non-null object\n",
      "Month1                                   327146 non-null int64\n",
      "Month2                                   327146 non-null int64\n",
      "Month3                                   327146 non-null int64\n",
      "Month4                                   327146 non-null int64\n",
      "Month5                                   327146 non-null int64\n",
      "Month6                                   327146 non-null int64\n",
      "Month7                                   327146 non-null int64\n",
      "Month8                                   327146 non-null int64\n",
      "Month9                                   327146 non-null int64\n",
      "Month10                                  327146 non-null int64\n",
      "Month11                                  327146 non-null int64\n",
      "Month12                                  327146 non-null int64\n",
      "parts_of_speech                          327146 non-null object\n",
      "proportion_female                        224709 non-null float64\n",
      "host_gender_r                            224709 non-null object\n",
      "host_gender_py                           327146 non-null object\n",
      "dtypes: bool(4), float64(17), int64(19), object(31)\n",
      "memory usage: 171.0+ MB\n"
     ]
    }
   ],
   "source": [
    "Listings_Mar.info()"
   ]
  },
  {
   "cell_type": "markdown",
   "metadata": {},
   "source": [
    "# Merge Review Topics"
   ]
  },
  {
   "cell_type": "code",
   "execution_count": 20,
   "metadata": {},
   "outputs": [],
   "source": [
    "Review_Topic_15 = pd.read_csv('Review_Topic_Distribution_15.csv.gz', compression='gzip')"
   ]
  },
  {
   "cell_type": "code",
   "execution_count": 21,
   "metadata": {},
   "outputs": [],
   "source": [
    "Review_Topic_15 =Review_Topic_15.rename(columns={\"0\": \"Topic_15_1\", \"1\": \"Topic_15_2\", \"2\":\"Topic_15_3\",\\\n",
    "                                \"3\": \"Topic_15_4\", \"4\": \"Topic_15_5\", \"5\":\"Topic_15_6\",\\\n",
    "                                \"6\": \"Topic_15_7\", \"7\": \"Topic_15_8\", \"8\":\"Topic_15_9\",\\\n",
    "                                \"9\": \"Topic_15_10\", \"10\": \"Topic_15_11\", \"11\":\"Topic_15_12\",\\\n",
    "                                \"12\": \"Topic_15_13\", \"13\": \"Topic_15_14\", \"14\":\"Topic_15_15\"})"
   ]
  },
  {
   "cell_type": "code",
   "execution_count": 22,
   "metadata": {},
   "outputs": [
    {
     "name": "stdout",
     "output_type": "stream",
     "text": [
      "<class 'pandas.core.frame.DataFrame'>\n",
      "RangeIndex: 230705 entries, 0 to 230704\n",
      "Data columns (total 17 columns):\n",
      "Unnamed: 0     230705 non-null int64\n",
      "listing_id     230705 non-null int64\n",
      "Topic_15_1     230705 non-null float64\n",
      "Topic_15_2     230705 non-null float64\n",
      "Topic_15_3     230705 non-null float64\n",
      "Topic_15_4     230705 non-null float64\n",
      "Topic_15_5     230705 non-null float64\n",
      "Topic_15_6     230705 non-null float64\n",
      "Topic_15_7     230705 non-null float64\n",
      "Topic_15_8     230705 non-null float64\n",
      "Topic_15_9     230705 non-null float64\n",
      "Topic_15_10    230705 non-null float64\n",
      "Topic_15_11    230705 non-null float64\n",
      "Topic_15_12    230705 non-null float64\n",
      "Topic_15_13    230705 non-null float64\n",
      "Topic_15_14    230705 non-null float64\n",
      "Topic_15_15    230705 non-null float64\n",
      "dtypes: float64(15), int64(2)\n",
      "memory usage: 29.9 MB\n"
     ]
    }
   ],
   "source": [
    "Review_Topic_15.info()"
   ]
  },
  {
   "cell_type": "code",
   "execution_count": 23,
   "metadata": {},
   "outputs": [],
   "source": [
    "Listings_Mar = pd.merge(left=Listings_Mar, right=Review_Topic_15, left_on='listing_id', right_on='listing_id', how = 'inner')"
   ]
  },
  {
   "cell_type": "code",
   "execution_count": 24,
   "metadata": {},
   "outputs": [
    {
     "name": "stdout",
     "output_type": "stream",
     "text": [
      "<class 'pandas.core.frame.DataFrame'>\n",
      "Int64Index: 230705 entries, 0 to 230704\n",
      "Data columns (total 87 columns):\n",
      "listing_id                               230705 non-null int64\n",
      "room_and_property_type                   230640 non-null object\n",
      "price                                    230705 non-null float64\n",
      "person_capacity                          230705 non-null int64\n",
      "bathrooms                                230652 non-null float64\n",
      "bedrooms                                 230556 non-null float64\n",
      "beds                                     230220 non-null float64\n",
      "min_nights                               230705 non-null int64\n",
      "max_nights                               230705 non-null int64\n",
      "can_instant_book                         230705 non-null bool\n",
      "host_id                                  230705 non-null int64\n",
      "host_name                                230705 non-null object\n",
      "host_verified_card                       230705 non-null bool\n",
      "host_badge                               4082 non-null object\n",
      "host_identity_verified                   230705 non-null bool\n",
      "is_superhost                             230705 non-null bool\n",
      "host_languages1                          230705 non-null object\n",
      "host_languages2                          97377 non-null object\n",
      "host_location                            200853 non-null object\n",
      "host_member_since                        230705 non-null object\n",
      "host_response_rate                       218257 non-null object\n",
      "host_response_time                       218115 non-null object\n",
      "additional_hosts                         230705 non-null object\n",
      "lat                                      230705 non-null float64\n",
      "lng                                      230705 non-null float64\n",
      "localized_city                           230705 non-null object\n",
      "localized_neighborhood                   115534 non-null object\n",
      "check_in_time                            220954 non-null object\n",
      "check_out_time                           215984 non-null object\n",
      "license                                  34554 non-null object\n",
      "is_hotel                                 230704 non-null object\n",
      "highlights                               226144 non-null object\n",
      "access_details                           146872 non-null object\n",
      "listing_description                      227886 non-null object\n",
      "house_rules                              174744 non-null object\n",
      "interaction_w_host                       160184 non-null object\n",
      "neighborhood_overview                    166963 non-null object\n",
      "notes_for_guests                         132458 non-null object\n",
      "space_description                        192710 non-null object\n",
      "description_summary                      222912 non-null object\n",
      "listing_transit                          151155 non-null object\n",
      "localized_language_name                  230552 non-null object\n",
      "picture_count                            230705 non-null int64\n",
      "reviews_count                            230705 non-null int64\n",
      "star_rating                              196274 non-null float64\n",
      "avg_rating                               196248 non-null float64\n",
      "review_accuracy_localized_rating         230703 non-null float64\n",
      "review_communication_percentage          230703 non-null float64\n",
      "review_communication_localized_rating    230703 non-null float64\n",
      "review_cleanliness_localized_rating      230699 non-null float64\n",
      "review_checkin_localized_rating          230703 non-null float64\n",
      "review_value_localized_rating            230702 non-null float64\n",
      "review_location_localized_rating         230703 non-null float64\n",
      "cancellation_policy_id                   230702 non-null float64\n",
      "search_location                          230705 non-null object\n",
      "Month1                                   230705 non-null int64\n",
      "Month2                                   230705 non-null int64\n",
      "Month3                                   230705 non-null int64\n",
      "Month4                                   230705 non-null int64\n",
      "Month5                                   230705 non-null int64\n",
      "Month6                                   230705 non-null int64\n",
      "Month7                                   230705 non-null int64\n",
      "Month8                                   230705 non-null int64\n",
      "Month9                                   230705 non-null int64\n",
      "Month10                                  230705 non-null int64\n",
      "Month11                                  230705 non-null int64\n",
      "Month12                                  230705 non-null int64\n",
      "parts_of_speech                          230705 non-null object\n",
      "proportion_female                        165505 non-null float64\n",
      "host_gender_r                            165505 non-null object\n",
      "host_gender_py                           230705 non-null object\n",
      "Unnamed: 0                               230705 non-null int64\n",
      "Topic_15_1                               230705 non-null float64\n",
      "Topic_15_2                               230705 non-null float64\n",
      "Topic_15_3                               230705 non-null float64\n",
      "Topic_15_4                               230705 non-null float64\n",
      "Topic_15_5                               230705 non-null float64\n",
      "Topic_15_6                               230705 non-null float64\n",
      "Topic_15_7                               230705 non-null float64\n",
      "Topic_15_8                               230705 non-null float64\n",
      "Topic_15_9                               230705 non-null float64\n",
      "Topic_15_10                              230705 non-null float64\n",
      "Topic_15_11                              230705 non-null float64\n",
      "Topic_15_12                              230705 non-null float64\n",
      "Topic_15_13                              230705 non-null float64\n",
      "Topic_15_14                              230705 non-null float64\n",
      "Topic_15_15                              230705 non-null float64\n",
      "dtypes: bool(4), float64(32), int64(20), object(31)\n",
      "memory usage: 148.7+ MB\n"
     ]
    }
   ],
   "source": [
    "Listings_Mar.info()"
   ]
  },
  {
   "cell_type": "code",
   "execution_count": 26,
   "metadata": {},
   "outputs": [],
   "source": [
    "Review_Topic_30 = pd.read_csv('Review_Topic_Distribution_30.csv.gz', compression='gzip')"
   ]
  },
  {
   "cell_type": "code",
   "execution_count": 27,
   "metadata": {},
   "outputs": [],
   "source": [
    "Review_Topic_30 =Review_Topic_30.rename(columns={\"0\": \"Topic_30_1\", \"1\": \"Topic_30_2\", \"2\":\"Topic_30_3\",\\\n",
    "                                \"3\": \"Topic_30_4\", \"4\": \"Topic_30_5\", \"5\":\"Topic_30_6\",\\\n",
    "                                \"6\": \"Topic_30_7\", \"7\": \"Topic_30_8\", \"8\":\"Topic_30_9\",\\\n",
    "                                \"9\": \"Topic_30_10\", \"10\": \"Topic_30_11\", \"11\":\"Topic_30_12\",\\\n",
    "                                \"12\": \"Topic_30_13\", \"13\": \"Topic_30_14\", \"14\":\"Topic_30_15\",\\\n",
    "                                \"15\": \"Topic_30_16\", \"16\": \"Topic_30_17\", \"17\":\"Topic_30_18\",\\\n",
    "                                \"18\": \"Topic_30_19\", \"19\": \"Topic_30_20\", \"20\":\"Topic_30_21\",\\\n",
    "                                \"21\": \"Topic_30_22\", \"22\": \"Topic_30_23\", \"23\":\"Topic_30_24\",\\\n",
    "                                \"24\": \"Topic_30_25\", \"25\": \"Topic_30_26\", \"26\":\"Topic_30_27\",\\\n",
    "                                \"27\": \"Topic_30_28\", \"28\": \"Topic_30_29\", \"29\":\"Topic_30_30\"})"
   ]
  },
  {
   "cell_type": "code",
   "execution_count": 28,
   "metadata": {},
   "outputs": [],
   "source": [
    "Listings_Mar = pd.merge(left=Listings_Mar, right=Review_Topic_30, left_on='listing_id', right_on='listing_id', how = 'inner')"
   ]
  },
  {
   "cell_type": "code",
   "execution_count": 31,
   "metadata": {
    "scrolled": false
   },
   "outputs": [
    {
     "name": "stdout",
     "output_type": "stream",
     "text": [
      "0 listing_id\n",
      "1 room_and_property_type\n",
      "2 price\n",
      "3 person_capacity\n",
      "4 bathrooms\n",
      "5 bedrooms\n",
      "6 beds\n",
      "7 min_nights\n",
      "8 max_nights\n",
      "9 can_instant_book\n",
      "10 host_id\n",
      "11 host_name\n",
      "12 host_verified_card\n",
      "13 host_badge\n",
      "14 host_identity_verified\n",
      "15 is_superhost\n",
      "16 host_languages1\n",
      "17 host_languages2\n",
      "18 host_location\n",
      "19 host_member_since\n",
      "20 host_response_rate\n",
      "21 host_response_time\n",
      "22 additional_hosts\n",
      "23 lat\n",
      "24 lng\n",
      "25 localized_city\n",
      "26 localized_neighborhood\n",
      "27 check_in_time\n",
      "28 check_out_time\n",
      "29 license\n",
      "30 is_hotel\n",
      "31 highlights\n",
      "32 access_details\n",
      "33 listing_description\n",
      "34 house_rules\n",
      "35 interaction_w_host\n",
      "36 neighborhood_overview\n",
      "37 notes_for_guests\n",
      "38 space_description\n",
      "39 description_summary\n",
      "40 listing_transit\n",
      "41 localized_language_name\n",
      "42 picture_count\n",
      "43 reviews_count\n",
      "44 star_rating\n",
      "45 avg_rating\n",
      "46 review_accuracy_localized_rating\n",
      "47 review_communication_percentage\n",
      "48 review_communication_localized_rating\n",
      "49 review_cleanliness_localized_rating\n",
      "50 review_checkin_localized_rating\n",
      "51 review_value_localized_rating\n",
      "52 review_location_localized_rating\n",
      "53 cancellation_policy_id\n",
      "54 search_location\n",
      "55 Month1\n",
      "56 Month2\n",
      "57 Month3\n",
      "58 Month4\n",
      "59 Month5\n",
      "60 Month6\n",
      "61 Month7\n",
      "62 Month8\n",
      "63 Month9\n",
      "64 Month10\n",
      "65 Month11\n",
      "66 Month12\n",
      "67 parts_of_speech\n",
      "68 proportion_female\n",
      "69 host_gender_r\n",
      "70 host_gender_py\n",
      "71 Unnamed: 0_x\n",
      "72 Topic_15_1\n",
      "73 Topic_15_2\n",
      "74 Topic_15_3\n",
      "75 Topic_15_4\n",
      "76 Topic_15_5\n",
      "77 Topic_15_6\n",
      "78 Topic_15_7\n",
      "79 Topic_15_8\n",
      "80 Topic_15_9\n",
      "81 Topic_15_10\n",
      "82 Topic_15_11\n",
      "83 Topic_15_12\n",
      "84 Topic_15_13\n",
      "85 Topic_15_14\n",
      "86 Topic_15_15\n",
      "87 Unnamed: 0_y\n",
      "88 Topic_30_1\n",
      "89 Topic_30_2\n",
      "90 Topic_30_3\n",
      "91 Topic_30_4\n",
      "92 Topic_30_5\n",
      "93 Topic_30_6\n",
      "94 Topic_30_7\n",
      "95 Topic_30_8\n",
      "96 Topic_30_9\n",
      "97 Topic_30_10\n",
      "98 Topic_30_11\n",
      "99 Topic_30_12\n",
      "100 Topic_30_13\n",
      "101 Topic_30_14\n",
      "102 Topic_30_15\n",
      "103 Topic_30_16\n",
      "104 Topic_30_17\n",
      "105 Topic_30_18\n",
      "106 Topic_30_19\n",
      "107 Topic_30_20\n",
      "108 Topic_30_21\n",
      "109 Topic_30_22\n",
      "110 Topic_30_23\n",
      "111 Topic_30_24\n",
      "112 Topic_30_25\n",
      "113 Topic_30_26\n",
      "114 Topic_30_27\n",
      "115 Topic_30_28\n",
      "116 Topic_30_29\n",
      "117 Topic_30_30\n"
     ]
    }
   ],
   "source": [
    "for i in range(0,len(Listings_Mar.columns)):\n",
    "    print(i,Listings_Mar.columns[i])"
   ]
  },
  {
   "cell_type": "code",
   "execution_count": 32,
   "metadata": {},
   "outputs": [],
   "source": [
    "Listings_Mar=Listings_Mar.drop(columns=['Unnamed: 0_x', 'Unnamed: 0_y'])"
   ]
  },
  {
   "cell_type": "code",
   "execution_count": 33,
   "metadata": {},
   "outputs": [
    {
     "name": "stdout",
     "output_type": "stream",
     "text": [
      "<class 'pandas.core.frame.DataFrame'>\n",
      "Int64Index: 230705 entries, 0 to 230704\n",
      "Columns: 116 entries, listing_id to Topic_30_30\n",
      "dtypes: bool(4), float64(62), int64(19), object(31)\n",
      "memory usage: 199.8+ MB\n"
     ]
    }
   ],
   "source": [
    "Listings_Mar.info()"
   ]
  },
  {
   "cell_type": "code",
   "execution_count": 34,
   "metadata": {},
   "outputs": [],
   "source": [
    "Listings_Mar.to_csv('Listings_March_Merged.csv.gz',header=True,compression='gzip')"
   ]
  },
  {
   "cell_type": "markdown",
   "metadata": {},
   "source": [
    "# Zipcode"
   ]
  },
  {
   "cell_type": "code",
   "execution_count": 3,
   "metadata": {},
   "outputs": [
    {
     "name": "stderr",
     "output_type": "stream",
     "text": [
      "C:\\ProgramData\\Anaconda3\\lib\\site-packages\\IPython\\core\\interactiveshell.py:3057: DtypeWarning: Columns (14,27,30,31) have mixed types. Specify dtype option on import or set low_memory=False.\n",
      "  interactivity=interactivity, compiler=compiler, result=result)\n"
     ]
    }
   ],
   "source": [
    "Listings_Mar = pd.read_csv('Listings_March_Merged.csv.gz',dtype={'host_badge':str,'localized_neighborhood':str,\\\n",
    "                                                             'license':str,'is_hotel':str }, compression='gzip')"
   ]
  },
  {
   "cell_type": "code",
   "execution_count": 4,
   "metadata": {},
   "outputs": [
    {
     "name": "stdout",
     "output_type": "stream",
     "text": [
      "Collecting geopy\n",
      "  Downloading https://files.pythonhosted.org/packages/07/e1/9c72de674d5c2b8fcb0738a5ceeb5424941fefa080bfe4e240d0bacb5a38/geopy-2.0.0-py3-none-any.whl (111kB)\n",
      "Collecting geographiclib<2,>=1.49 (from geopy)\n",
      "  Downloading https://files.pythonhosted.org/packages/8b/62/26ec95a98ba64299163199e95ad1b0e34ad3f4e176e221c40245f211e425/geographiclib-1.50-py3-none-any.whl\n",
      "Installing collected packages: geographiclib, geopy\n",
      "Successfully installed geographiclib-1.50 geopy-2.0.0\n"
     ]
    }
   ],
   "source": [
    "#!pip install geopy"
   ]
  },
  {
   "cell_type": "code",
   "execution_count": 56,
   "metadata": {},
   "outputs": [],
   "source": [
    "from geopy.geocoders import Nominatim\n",
    "geolocator = geopy.Nominatim(user_agent='find_zips')\n",
    "\n",
    "def find_zip(lat,lng):\n",
    "    location = geolocator.reverse(str(lat)+','+str(lng))\n",
    "    try:\n",
    "        zip = location.raw['address']['postcode']\n",
    "    except KeyError:\n",
    "        zip = 'NotFound'\n",
    "    return zip[0:5]\n",
    "\n",
    "Listings_Mar['zipcode'] = Listings_Mar.apply(lambda x: find_zip(x['lat'], x['lng']), axis=1)\n"
   ]
  },
  {
   "cell_type": "code",
   "execution_count": 59,
   "metadata": {},
   "outputs": [],
   "source": [
    "Listings_Mar=Listings_Mar.drop(columns=['Unnamed: 0'])"
   ]
  },
  {
   "cell_type": "code",
   "execution_count": 60,
   "metadata": {},
   "outputs": [],
   "source": [
    "Listings_Mar.to_csv('Listings_March_Merged.csv.gz',header=True,compression='gzip')"
   ]
  },
  {
   "cell_type": "code",
   "execution_count": 77,
   "metadata": {},
   "outputs": [
    {
     "name": "stdout",
     "output_type": "stream",
     "text": [
      "2611\n"
     ]
    }
   ],
   "source": [
    "a = Listings_Mar[ Listings_Mar['zipcode'] == 'NotFo' ]\n",
    "print(len(a))"
   ]
  },
  {
   "cell_type": "code",
   "execution_count": 81,
   "metadata": {},
   "outputs": [
    {
     "name": "stdout",
     "output_type": "stream",
     "text": [
      "(230705, 2)\n",
      "<class 'pandas.core.frame.DataFrame'>\n",
      "RangeIndex: 230705 entries, 0 to 230704\n",
      "Data columns (total 2 columns):\n",
      "localized_city            230705 non-null object\n",
      "localized_neighborhood    115534 non-null object\n",
      "dtypes: object(2)\n",
      "memory usage: 3.5+ MB\n"
     ]
    }
   ],
   "source": [
    "a = Listings_Mar[['localized_city','localized_neighborhood']].copy()\n",
    "#a = a.drop_duplicates(keep='first')\n",
    "print(a.shape)\n",
    "a.info()"
   ]
  },
  {
   "cell_type": "markdown",
   "metadata": {},
   "source": [
    "# Filter Rows Where Python Gender == R Gender & Zipcode Has Been Found"
   ]
  },
  {
   "cell_type": "code",
   "execution_count": 3,
   "metadata": {},
   "outputs": [
    {
     "name": "stderr",
     "output_type": "stream",
     "text": [
      "C:\\ProgramData\\Anaconda3\\lib\\site-packages\\IPython\\core\\interactiveshell.py:3057: DtypeWarning: Columns (14,27,30,31,117) have mixed types. Specify dtype option on import or set low_memory=False.\n",
      "  interactivity=interactivity, compiler=compiler, result=result)\n"
     ]
    }
   ],
   "source": [
    "Host_Gender = pd.read_csv('Listings_March_Merged.csv.gz',compression='gzip')"
   ]
  },
  {
   "cell_type": "code",
   "execution_count": 24,
   "metadata": {},
   "outputs": [
    {
     "name": "stdout",
     "output_type": "stream",
     "text": [
      "<class 'pandas.core.frame.DataFrame'>\n",
      "RangeIndex: 230705 entries, 0 to 230704\n",
      "Data columns (total 5 columns):\n",
      "host_name            230705 non-null object\n",
      "parts_of_speech      230705 non-null object\n",
      "proportion_female    165505 non-null float64\n",
      "host_gender_r        165505 non-null object\n",
      "host_gender_py       230705 non-null object\n",
      "dtypes: float64(1), object(4)\n",
      "memory usage: 8.8+ MB\n"
     ]
    }
   ],
   "source": [
    "Host_Gender.info()"
   ]
  },
  {
   "cell_type": "code",
   "execution_count": 5,
   "metadata": {},
   "outputs": [],
   "source": [
    "Host_Gender_Selected = Host_Gender[ Host_Gender['host_gender_r'] == Host_Gender['host_gender_py'] ]"
   ]
  },
  {
   "cell_type": "code",
   "execution_count": 6,
   "metadata": {},
   "outputs": [
    {
     "name": "stdout",
     "output_type": "stream",
     "text": [
      "<class 'pandas.core.frame.DataFrame'>\n",
      "Int64Index: 134027 entries, 0 to 230704\n",
      "Columns: 118 entries, Unnamed: 0 to zipcode\n",
      "dtypes: bool(4), float64(62), int64(20), object(32)\n",
      "memory usage: 118.1+ MB\n"
     ]
    }
   ],
   "source": [
    "Host_Gender_Selected.info()"
   ]
  },
  {
   "cell_type": "code",
   "execution_count": 8,
   "metadata": {},
   "outputs": [],
   "source": [
    "Host_Gender_Selected = Host_Gender_Selected[ Host_Gender_Selected['zipcode'] != 'NotFo' ]"
   ]
  },
  {
   "cell_type": "code",
   "execution_count": 9,
   "metadata": {},
   "outputs": [
    {
     "name": "stdout",
     "output_type": "stream",
     "text": [
      "<class 'pandas.core.frame.DataFrame'>\n",
      "Int64Index: 132678 entries, 0 to 230704\n",
      "Columns: 118 entries, Unnamed: 0 to zipcode\n",
      "dtypes: bool(4), float64(62), int64(20), object(32)\n",
      "memory usage: 116.9+ MB\n"
     ]
    }
   ],
   "source": [
    "Host_Gender_Selected.info()"
   ]
  },
  {
   "cell_type": "code",
   "execution_count": 10,
   "metadata": {},
   "outputs": [],
   "source": [
    "Host_Gender_Selected.to_csv('Listings_Filtered.csv.gz',header=True,compression='gzip')"
   ]
  },
  {
   "cell_type": "code",
   "execution_count": 12,
   "metadata": {},
   "outputs": [
    {
     "data": {
      "text/html": [
       "<div>\n",
       "<style scoped>\n",
       "    .dataframe tbody tr th:only-of-type {\n",
       "        vertical-align: middle;\n",
       "    }\n",
       "\n",
       "    .dataframe tbody tr th {\n",
       "        vertical-align: top;\n",
       "    }\n",
       "\n",
       "    .dataframe thead th {\n",
       "        text-align: right;\n",
       "    }\n",
       "</style>\n",
       "<table border=\"1\" class=\"dataframe\">\n",
       "  <thead>\n",
       "    <tr style=\"text-align: right;\">\n",
       "      <th></th>\n",
       "      <th>Unnamed: 0</th>\n",
       "      <th>listing_id</th>\n",
       "      <th>room_and_property_type</th>\n",
       "      <th>price</th>\n",
       "      <th>person_capacity</th>\n",
       "      <th>bathrooms</th>\n",
       "      <th>bedrooms</th>\n",
       "      <th>beds</th>\n",
       "      <th>min_nights</th>\n",
       "      <th>max_nights</th>\n",
       "      <th>...</th>\n",
       "      <th>Topic_30_22</th>\n",
       "      <th>Topic_30_23</th>\n",
       "      <th>Topic_30_24</th>\n",
       "      <th>Topic_30_25</th>\n",
       "      <th>Topic_30_26</th>\n",
       "      <th>Topic_30_27</th>\n",
       "      <th>Topic_30_28</th>\n",
       "      <th>Topic_30_29</th>\n",
       "      <th>Topic_30_30</th>\n",
       "      <th>zipcode</th>\n",
       "    </tr>\n",
       "  </thead>\n",
       "  <tbody>\n",
       "    <tr>\n",
       "      <th>0</th>\n",
       "      <td>0</td>\n",
       "      <td>9214018</td>\n",
       "      <td>Entire house</td>\n",
       "      <td>1000.0</td>\n",
       "      <td>10</td>\n",
       "      <td>3.5</td>\n",
       "      <td>4.0</td>\n",
       "      <td>4.0</td>\n",
       "      <td>30</td>\n",
       "      <td>1125</td>\n",
       "      <td>...</td>\n",
       "      <td>0.001101</td>\n",
       "      <td>0.002915</td>\n",
       "      <td>0.001955</td>\n",
       "      <td>0.002376</td>\n",
       "      <td>0.002321</td>\n",
       "      <td>0.002022</td>\n",
       "      <td>0.001395</td>\n",
       "      <td>0.001989</td>\n",
       "      <td>0.102754</td>\n",
       "      <td>92663</td>\n",
       "    </tr>\n",
       "    <tr>\n",
       "      <th>2</th>\n",
       "      <td>2</td>\n",
       "      <td>13301958</td>\n",
       "      <td>Entire house</td>\n",
       "      <td>1000.0</td>\n",
       "      <td>10</td>\n",
       "      <td>5.5</td>\n",
       "      <td>5.0</td>\n",
       "      <td>5.0</td>\n",
       "      <td>31</td>\n",
       "      <td>1125</td>\n",
       "      <td>...</td>\n",
       "      <td>0.013019</td>\n",
       "      <td>0.000991</td>\n",
       "      <td>0.000664</td>\n",
       "      <td>0.000807</td>\n",
       "      <td>0.000789</td>\n",
       "      <td>0.115257</td>\n",
       "      <td>0.000474</td>\n",
       "      <td>0.000676</td>\n",
       "      <td>0.037100</td>\n",
       "      <td>92657</td>\n",
       "    </tr>\n",
       "    <tr>\n",
       "      <th>4</th>\n",
       "      <td>4</td>\n",
       "      <td>18315194</td>\n",
       "      <td>Entire townhouse</td>\n",
       "      <td>1000.0</td>\n",
       "      <td>15</td>\n",
       "      <td>4.0</td>\n",
       "      <td>6.0</td>\n",
       "      <td>9.0</td>\n",
       "      <td>2</td>\n",
       "      <td>27</td>\n",
       "      <td>...</td>\n",
       "      <td>0.019194</td>\n",
       "      <td>0.000547</td>\n",
       "      <td>0.000367</td>\n",
       "      <td>0.000446</td>\n",
       "      <td>0.000436</td>\n",
       "      <td>0.000379</td>\n",
       "      <td>0.000262</td>\n",
       "      <td>0.000373</td>\n",
       "      <td>0.000352</td>\n",
       "      <td>92663</td>\n",
       "    </tr>\n",
       "    <tr>\n",
       "      <th>11</th>\n",
       "      <td>11</td>\n",
       "      <td>17591369</td>\n",
       "      <td>Entire house</td>\n",
       "      <td>1000.0</td>\n",
       "      <td>14</td>\n",
       "      <td>4.5</td>\n",
       "      <td>6.0</td>\n",
       "      <td>12.0</td>\n",
       "      <td>7</td>\n",
       "      <td>1125</td>\n",
       "      <td>...</td>\n",
       "      <td>0.023394</td>\n",
       "      <td>0.000967</td>\n",
       "      <td>0.000649</td>\n",
       "      <td>0.000788</td>\n",
       "      <td>0.000770</td>\n",
       "      <td>0.000671</td>\n",
       "      <td>0.000463</td>\n",
       "      <td>0.000660</td>\n",
       "      <td>0.000622</td>\n",
       "      <td>92690</td>\n",
       "    </tr>\n",
       "    <tr>\n",
       "      <th>12</th>\n",
       "      <td>12</td>\n",
       "      <td>24633047</td>\n",
       "      <td>Entire villa</td>\n",
       "      <td>1000.0</td>\n",
       "      <td>10</td>\n",
       "      <td>4.0</td>\n",
       "      <td>4.0</td>\n",
       "      <td>4.0</td>\n",
       "      <td>31</td>\n",
       "      <td>1125</td>\n",
       "      <td>...</td>\n",
       "      <td>0.001298</td>\n",
       "      <td>0.003439</td>\n",
       "      <td>0.002306</td>\n",
       "      <td>0.002803</td>\n",
       "      <td>0.002737</td>\n",
       "      <td>0.317085</td>\n",
       "      <td>0.001646</td>\n",
       "      <td>0.002347</td>\n",
       "      <td>0.002210</td>\n",
       "      <td>92657</td>\n",
       "    </tr>\n",
       "  </tbody>\n",
       "</table>\n",
       "<p>5 rows × 118 columns</p>\n",
       "</div>"
      ],
      "text/plain": [
       "    Unnamed: 0  listing_id room_and_property_type   price  person_capacity  \\\n",
       "0            0     9214018           Entire house  1000.0               10   \n",
       "2            2    13301958           Entire house  1000.0               10   \n",
       "4            4    18315194       Entire townhouse  1000.0               15   \n",
       "11          11    17591369           Entire house  1000.0               14   \n",
       "12          12    24633047           Entire villa  1000.0               10   \n",
       "\n",
       "    bathrooms  bedrooms  beds  min_nights  max_nights  ...  Topic_30_22  \\\n",
       "0         3.5       4.0   4.0          30        1125  ...     0.001101   \n",
       "2         5.5       5.0   5.0          31        1125  ...     0.013019   \n",
       "4         4.0       6.0   9.0           2          27  ...     0.019194   \n",
       "11        4.5       6.0  12.0           7        1125  ...     0.023394   \n",
       "12        4.0       4.0   4.0          31        1125  ...     0.001298   \n",
       "\n",
       "    Topic_30_23 Topic_30_24  Topic_30_25 Topic_30_26  Topic_30_27  \\\n",
       "0      0.002915    0.001955     0.002376    0.002321     0.002022   \n",
       "2      0.000991    0.000664     0.000807    0.000789     0.115257   \n",
       "4      0.000547    0.000367     0.000446    0.000436     0.000379   \n",
       "11     0.000967    0.000649     0.000788    0.000770     0.000671   \n",
       "12     0.003439    0.002306     0.002803    0.002737     0.317085   \n",
       "\n",
       "    Topic_30_28 Topic_30_29 Topic_30_30 zipcode  \n",
       "0      0.001395    0.001989    0.102754   92663  \n",
       "2      0.000474    0.000676    0.037100   92657  \n",
       "4      0.000262    0.000373    0.000352   92663  \n",
       "11     0.000463    0.000660    0.000622   92690  \n",
       "12     0.001646    0.002347    0.002210   92657  \n",
       "\n",
       "[5 rows x 118 columns]"
      ]
     },
     "execution_count": 12,
     "metadata": {},
     "output_type": "execute_result"
    }
   ],
   "source": [
    "Host_Gender_Selected.head()"
   ]
  }
 ],
 "metadata": {
  "kernelspec": {
   "display_name": "Python 3",
   "language": "python",
   "name": "python3"
  },
  "language_info": {
   "codemirror_mode": {
    "name": "ipython",
    "version": 3
   },
   "file_extension": ".py",
   "mimetype": "text/x-python",
   "name": "python",
   "nbconvert_exporter": "python",
   "pygments_lexer": "ipython3",
   "version": "3.8.3"
  }
 },
 "nbformat": 4,
 "nbformat_minor": 2
}
