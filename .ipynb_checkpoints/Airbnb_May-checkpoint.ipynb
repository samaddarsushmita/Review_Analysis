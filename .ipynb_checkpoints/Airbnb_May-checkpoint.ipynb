{
 "cells": [
  {
   "cell_type": "code",
   "execution_count": 2,
   "metadata": {},
   "outputs": [],
   "source": [
    "import glob\n",
    "import pandas as pd\n",
    "import numpy as np\n",
    "from pylab import *\n",
    "from pathlib import Path \n",
    "from scipy.integrate import quad\n",
    "from scipy.optimize import minimize\n",
    "from scipy.optimize import fsolve\n",
    "from scipy.stats import *\n",
    "import matplotlib.style\n",
    "style.use('classic')\n",
    "%matplotlib inline\n",
    "#rcParams[\"figure.dpi\"] = 600\n",
    "rcParams[\"lines.linewidth\"]=2.0\n",
    "rcParams[\"figure.figsize\"] = 6.0, 4.0\n",
    "rcParams['text.usetex'] = False\n",
    "rcParams['font.family'] = ['serif']\n",
    "rcParams['font.size'] = 15.0\n",
    "rcParams['savefig.format'] = 'pdf'\n",
    "\n",
    "#!conda install python-dateutil\n",
    "from dateutil.parser import isoparse"
   ]
  },
  {
   "cell_type": "code",
   "execution_count": 2,
   "metadata": {},
   "outputs": [
    {
     "name": "stdout",
     "output_type": "stream",
     "text": [
      "Shape of Combined: (10720558, 18)\n",
      "0 listing_id\n",
      "1 reviews_count\n",
      "2 reviewee_deleted\n",
      "3 reviewee_first_name\n",
      "4 reviewee_host_name\n",
      "5 reviewee_id\n",
      "6 reviewee_is_superhost\n",
      "7 review_id\n",
      "8 review_created_at\n",
      "9 review_language\n",
      "10 review_rating\n",
      "11 review_comments\n",
      "12 host_response\n",
      "13 reviewer_deleted\n",
      "14 reviewer_first_name\n",
      "15 reviewer_host_name\n",
      "16 reviewer_id\n",
      "17 reviewer_is_superhost\n"
     ]
    }
   ],
   "source": [
    "'''\n",
    "all_listings = pd.read_csv(Path.cwd() / 'Raw_Data' /'Combined_Reviews_May20.csv.gz',\\\n",
    "                           compression='gzip', error_bad_lines=False, \\\n",
    "                           dtype={'host_badge':str,'is_hotel': str,'localized_neighborhood':str,'license':str})\n",
    "'''\n",
    "all_listings = pd.read_csv(Path.cwd()/'Raw_Data'/'Combined_Reviews_May20.csv.gz',compression='gzip', error_bad_lines=False)\n",
    "print('Shape of Combined:',all_listings.shape)\n",
    "\n",
    "for index, col in enumerate(all_listings.columns): \n",
    "    print(index, col)"
   ]
  },
  {
   "cell_type": "code",
   "execution_count": 5,
   "metadata": {},
   "outputs": [
    {
     "name": "stdout",
     "output_type": "stream",
     "text": [
      "(10720558, 2)\n",
      "(235685, 2)\n"
     ]
    }
   ],
   "source": [
    "listings = pd.DataFrame(all_listings, columns=[\"listing_id\",\"reviews_count\"])\n",
    "#listings[\"max_reviews_count\"] = all_listings[\"reviews_count\"] + 100\n",
    "listings.head(10)\n",
    "print(listings.shape)\n",
    "listings.drop_duplicates(keep = 'first', inplace = True)\n",
    "print(listings.shape)\n",
    "\n",
    "listings.to_csv(Path.cwd() / 'Raw_Data' /'Already_Scraped.csv.gz', index=False, header=True, compression='gzip')"
   ]
  },
  {
   "cell_type": "code",
   "execution_count": 36,
   "metadata": {},
   "outputs": [
    {
     "name": "stdout",
     "output_type": "stream",
     "text": [
      "Sum:  10720558\n",
      "Min:  1\n",
      "Max:  1451\n"
     ]
    }
   ],
   "source": [
    "all_scrapped = pd.read_csv( Path.cwd() / 'Raw_Data' /'Already_Scraped.csv.gz', compression='gzip', error_bad_lines=False)\n",
    "\n",
    "print(\"Sum: \",all_scrapped[\"reviews_count\"].sum(axis=0))\n",
    "print(\"Min: \",all_scrapped[\"reviews_count\"].min())\n",
    "print(\"Max: \",all_scrapped[\"reviews_count\"].max())"
   ]
  },
  {
   "cell_type": "code",
   "execution_count": null,
   "metadata": {},
   "outputs": [],
   "source": [
    "to_scrape = pd.read_csv( Path.cwd() / 'Raw_Data' /'To_Scrape.csv.gz', compression='gzip', error_bad_lines=False)\n",
    "\n",
    "to_scrape_v1 = to_scrape.loc[to_scrape[\"max_reviews_count\"]>100]\n",
    "to_scrape_v1.to_csv(Path.cwd() / 'Raw_Data' /'To_Scrape_v1.csv.gz', index=False, header=True, compression='gzip')\n",
    "\n",
    "to_scrape_v2 = to_scrape.loc[to_scrape[\"max_reviews_count\"]==100]\n",
    "to_scrape_v2.to_csv(Path.cwd() / 'Raw_Data' /'To_Scrape_v2.csv.gz', index=False, header=True, compression='gzip')\n"
   ]
  },
  {
   "cell_type": "code",
   "execution_count": 34,
   "metadata": {},
   "outputs": [
    {
     "name": "stdout",
     "output_type": "stream",
     "text": [
      "(26204, 2)\n",
      "Min:  101\n",
      "Max:  1197\n"
     ]
    }
   ],
   "source": [
    "to_scrape_v1 = pd.read_csv( Path.cwd() / 'Raw_Data' /'To_Scrape_v1.csv.gz', compression='gzip', error_bad_lines=False)\n",
    "#to_scrape_v1.head(10)\n",
    "print(to_scrape_v1.shape)\n",
    "print(\"Min: \",to_scrape_v1[\"max_reviews_count\"].min())\n",
    "print(\"Max: \",to_scrape_v1[\"max_reviews_count\"].max())\n"
   ]
  },
  {
   "cell_type": "code",
   "execution_count": 29,
   "metadata": {},
   "outputs": [
    {
     "name": "stdout",
     "output_type": "stream",
     "text": [
      "(65257, 2)\n",
      "Min:  100\n",
      "Max:  100\n"
     ]
    }
   ],
   "source": [
    "to_scrape_v2 = pd.read_csv( Path.cwd() / 'Raw_Data' /'To_Scrape_v2.csv.gz', compression='gzip', error_bad_lines=False)\n",
    "#to_scrape_v2.head(10)\n",
    "print(to_scrape_v2.shape)\n",
    "print(\"Min: \",to_scrape_v2[\"max_reviews_count\"].min())\n",
    "print(\"Max: \",to_scrape_v2[\"max_reviews_count\"].max())\n"
   ]
  },
  {
   "cell_type": "code",
   "execution_count": 33,
   "metadata": {},
   "outputs": [
    {
     "name": "stdout",
     "output_type": "stream",
     "text": [
      "26205\n",
      "31146106 179\n",
      "38349587 117\n",
      "30123547 174\n",
      "40039746 115\n",
      "23332291 232\n"
     ]
    }
   ],
   "source": [
    "import gzip\n",
    "import csv\n",
    "from csv import reader\n",
    "\n",
    "start = 26200\n",
    "end  = 26205\n",
    "\n",
    "with gzip.open(Path.cwd() / 'Raw_Data' /'To_Scrape_v1.csv.gz', 'rt',\"encoding = 'utf-8'\") as read_obj:\n",
    "    csv_reader = csv.reader(read_obj)\n",
    "    home_list = list(csv_reader)\n",
    "    print(len(home_list))\n",
    "    for i in range(start,end):\n",
    "        print(home_list[i][0],home_list[i][1])"
   ]
  },
  {
   "cell_type": "code",
   "execution_count": 6,
   "metadata": {},
   "outputs": [
    {
     "name": "stdout",
     "output_type": "stream",
     "text": [
      "0 host_response\n",
      "1 listing_id\n",
      "2 review_comments\n",
      "3 review_created_at\n",
      "4 review_id\n",
      "5 review_language\n",
      "6 review_rating\n",
      "7 reviewee_deleted\n",
      "8 reviewee_first_name\n",
      "9 reviewee_host_name\n",
      "10 reviewee_id\n",
      "11 reviewee_is_superhost\n",
      "12 reviewer_deleted\n",
      "13 reviewer_first_name\n",
      "14 reviewer_host_name\n",
      "15 reviewer_id\n",
      "16 reviewer_is_superhost\n",
      "17 reviews_count\n",
      "0 listing_id\n",
      "1 reviews_count\n",
      "2 reviewee_deleted\n",
      "3 reviewee_first_name\n",
      "4 reviewee_host_name\n",
      "5 reviewee_id\n",
      "6 reviewee_is_superhost\n",
      "7 review_id\n",
      "8 review_created_at\n",
      "9 review_language\n",
      "10 review_rating\n",
      "11 review_comments\n",
      "12 host_response\n",
      "13 reviewer_deleted\n",
      "14 reviewer_first_name\n",
      "15 reviewer_host_name\n",
      "16 reviewer_id\n",
      "17 reviewer_is_superhost\n"
     ]
    }
   ],
   "source": [
    "reviews_0 = pd.read_csv(Path.cwd() / 'Raw_Data' /'0_Combined_Reviews.csv.gz',compression='gzip', error_bad_lines=False)\n",
    "\n",
    "reviews_0.head(10)\n",
    "for index, col in enumerate(reviews_0.columns): \n",
    "    print(index, col)\n",
    "    \n",
    "cols = ['listing_id', 'reviews_count', 'reviewee_deleted', 'reviewee_first_name', 'reviewee_host_name', 'reviewee_id', \\\n",
    "        'reviewee_is_superhost', 'review_id', 'review_created_at', 'review_language', 'review_rating', 'review_comments', \\\n",
    "        'host_response', 'reviewer_deleted', 'reviewer_first_name', 'reviewer_host_name', 'reviewer_id', \\\n",
    "        'reviewer_is_superhost']\n",
    "\n",
    "reviews_0 = reviews_0[cols]\n",
    "reviews_0.head(10)\n",
    "for index, col in enumerate(reviews_0.columns): \n",
    "    print(index, col)\n"
   ]
  },
  {
   "cell_type": "code",
   "execution_count": 4,
   "metadata": {},
   "outputs": [
    {
     "data": {
      "text/plain": [
       "Orlando_FL              23696\n",
       "New_York_NY             21862\n",
       "Los_Angeles_CA          14837\n",
       "San_Diego_CA            13884\n",
       "Miami_FL                12793\n",
       "Palm_Springs_CA         10751\n",
       "San_Francisco_CA        10536\n",
       "Fort_Lauderdale_FL      10515\n",
       "Atlanta_GA               9990\n",
       "Tampa_FL                 9480\n",
       "Santa_Clarita_CA         8934\n",
       "Scottsdale_AZ            8849\n",
       "Austin_TX                8495\n",
       "Panama_City_Beach_FL     7984\n",
       "Las_Vegas_NV             7905\n",
       "San_Jose_CA              7732\n",
       "Houston_TX               7630\n",
       "Destin_FL                7497\n",
       "Salt_Lake_City_UT        7357\n",
       "Seattle_WA               7333\n",
       "Nashville_TN             7169\n",
       "Myrtle_Beach_SC          7101\n",
       "Boston_MA                7055\n",
       "Chicago_IL               6953\n",
       "Savannah_GA              6839\n",
       "Denver_CO                6502\n",
       "Anaheim_CA               6403\n",
       "New_Orleans_LA           6297\n",
       "Honolulu_HI              6074\n",
       "Dallas_TX                5776\n",
       "Lake_Tahoe_CA            5550\n",
       "Philadelphia_PA          5487\n",
       "Asheville_NC             5446\n",
       "Washington_DC            5407\n",
       "Charleston_SC            5225\n",
       "Portland_OR              5122\n",
       "Kissimmee_FL             4616\n",
       "Jersey_City_NJ           3798\n",
       "Phoenix_AZ               2266\n",
       "Name: search_location, dtype: int64"
      ]
     },
     "execution_count": 4,
     "metadata": {},
     "output_type": "execute_result"
    }
   ],
   "source": [
    "all_listings['search_location'].value_counts()"
   ]
  },
  {
   "cell_type": "code",
   "execution_count": 5,
   "metadata": {},
   "outputs": [
    {
     "data": {
      "text/plain": [
       "female           92917\n",
       "male             92358\n",
       "not_a_name       63500\n",
       "unknown          54322\n",
       "mostly_female    11043\n",
       "mostly_male       9081\n",
       "andy              3925\n",
       "Name: host_gender, dtype: int64"
      ]
     },
     "execution_count": 5,
     "metadata": {},
     "output_type": "execute_result"
    }
   ],
   "source": [
    "all_listings['host_gender'].value_counts()"
   ]
  },
  {
   "cell_type": "code",
   "execution_count": 6,
   "metadata": {},
   "outputs": [
    {
     "data": {
      "text/plain": [
       "42164336    1\n",
       "757381      1\n",
       "38910562    1\n",
       "38908515    1\n",
       "28412516    1\n",
       "           ..\n",
       "26829958    1\n",
       "24734855    1\n",
       "34151561    1\n",
       "17791049    1\n",
       "39034803    1\n",
       "Name: listing_id, Length: 327146, dtype: int64"
      ]
     },
     "execution_count": 6,
     "metadata": {},
     "output_type": "execute_result"
    }
   ],
   "source": [
    "all_listings['listing_id'].value_counts()"
   ]
  },
  {
   "cell_type": "code",
   "execution_count": 6,
   "metadata": {},
   "outputs": [
    {
     "data": {
      "text/plain": [
       "<Figure size 432x288 with 0 Axes>"
      ]
     },
     "execution_count": 6,
     "metadata": {},
     "output_type": "execute_result"
    },
    {
     "data": {
      "image/png": "[encoded data removed]",
      "text/plain": [
       "<Figure size 1440x360 with 1 Axes>"
      ]
     },
     "metadata": {
      "needs_background": "light"
     },
     "output_type": "display_data"
    },
    {
     "data": {
      "text/plain": [
       "<Figure size 432x288 with 0 Axes>"
      ]
     },
     "metadata": {},
     "output_type": "display_data"
    }
   ],
   "source": [
    "all_listings.hist(column='review_accuracy_localized_rating', bins=100,figsize = [20.0, 5.0])\n",
    "ylabel(\"Number of Listings\")\n",
    "#xlabel(\"Picture Count\")\n",
    "#xlim([0, 1])\n",
    "figure()"
   ]
  },
  {
   "cell_type": "code",
   "execution_count": 8,
   "metadata": {},
   "outputs": [
    {
     "name": "stdout",
     "output_type": "stream",
     "text": [
      "        listing_id                                  url  \\\n",
      "274428      757381  https://www.airbnb.com/rooms/757381   \n",
      "\n",
      "                                            listing_name room_type_category  \\\n",
      "274428  \"The Secret Garden\" Spacious, bright 2bd 2ba apt        entire_home   \n",
      "\n",
      "       room_and_property_type  price currency  amt_w_service rate_type  \\\n",
      "274428       Entire apartment  180.0      USD          180.0   nightly   \n",
      "\n",
      "        monthly_price_factor  ...  review_location_localized_rating  \\\n",
      "274428                   0.5  ...                               5.0   \n",
      "\n",
      "                                days_available_monthly  \\\n",
      "274428  [0, 1, 31, 30, 31, 31, 30, 31, 30, 31, 31, 28]   \n",
      "\n",
      "          cancellation_policy_label  cancellation_policy_id  \\\n",
      "274428  strict_14_with_grace_period                    44.0   \n",
      "\n",
      "                                 cancellation_policy_text  \\\n",
      "274428  Free cancellation for 48 hours. After that, ca...   \n",
      "\n",
      "        cancellation_policy_price_factor   search_location  \\\n",
      "274428                               0.0  San_Francisco_CA   \n",
      "\n",
      "        host_name_has_space    host_gender  Unnamed: 0  \n",
      "274428                    0  mostly_female      5058.0  \n",
      "\n",
      "[1 rows x 78 columns]\n"
     ]
    }
   ],
   "source": [
    "print(all_listings.loc[all_listings['listing_id'] == 757381])"
   ]
  },
  {
   "cell_type": "code",
   "execution_count": 8,
   "metadata": {},
   "outputs": [
    {
     "data": {
      "text/plain": [
       "<Figure size 432x288 with 0 Axes>"
      ]
     },
     "execution_count": 8,
     "metadata": {},
     "output_type": "execute_result"
    },
    {
     "data": {
      "image/png": "[encoded data removed]",
      "text/plain": [
       "<Figure size 1440x360 with 1 Axes>"
      ]
     },
     "metadata": {
      "needs_background": "light"
     },
     "output_type": "display_data"
    },
    {
     "data": {
      "text/plain": [
       "<Figure size 432x288 with 0 Axes>"
      ]
     },
     "metadata": {},
     "output_type": "display_data"
    }
   ],
   "source": [
    "all_listings.hist(column='price',bins=200, range=(0,1000),figsize = [20.0, 5.0])\n",
    "ylabel(\"Number of Listings\")\n",
    "xlabel(\"Price\")\n",
    "xlim([0, 1000])\n",
    "figure()"
   ]
  },
  {
   "cell_type": "markdown",
   "metadata": {},
   "source": [
    "# Read the Original Review Dataset"
   ]
  },
  {
   "cell_type": "code",
   "execution_count": 23,
   "metadata": {},
   "outputs": [
    {
     "name": "stdout",
     "output_type": "stream",
     "text": [
      "Shape of Combined: (12427274, 12)\n",
      "0 listing_id\n",
      "1 localized_city\n",
      "2 review_comments\n",
      "3 review_created_at\n",
      "4 review_language\n",
      "5 review_rating\n",
      "6 reviewer_name\n",
      "7 reviews_count\n",
      "8 search_location\n",
      "9 reviewer_name_has_space\n",
      "10 reviewer_gender\n",
      "11 Unnamed: 0\n"
     ]
    }
   ],
   "source": [
    "all_reviews = pd.read_csv(Path.cwd() / 'Raw_Data' /'Combined_Reviews.csv.gz',\\\n",
    "                           compression='gzip', error_bad_lines=False) #,)\n",
    "                           #dtype={'host_badge':str,'is_hotel': str,'localized_neighborhood':str,'license':str})\n",
    "\n",
    "print('Shape of Combined:',all_reviews.shape)\n",
    "\n",
    "for index, col in enumerate(all_reviews.columns): \n",
    "    print(index, col)"
   ]
  },
  {
   "cell_type": "markdown",
   "metadata": {},
   "source": [
    "# Modify the Full Dataset to Lite"
   ]
  },
  {
   "cell_type": "code",
   "execution_count": 25,
   "metadata": {},
   "outputs": [
    {
     "name": "stdout",
     "output_type": "stream",
     "text": [
      "0 listing_id\n",
      "1 localized_city\n",
      "2 search_location\n",
      "3 reviews_count\n",
      "4 review_language\n",
      "5 review_rating\n",
      "6 reviewer_name\n",
      "7 reviewer_gender\n",
      "8 review_created_at\n",
      "9 timestamp\n",
      "10 timezone\n"
     ]
    }
   ],
   "source": [
    "all_reviews = all_reviews.drop(columns=[\"review_comments\",\"reviewer_name_has_space\",\"Unnamed: 0\"])\n",
    "print('Shape of Combined:',all_reviews.shape)\n",
    "\n",
    "all_reviews['timezone'] = all_reviews['review_created_at'].str.slice(start=-1)\n",
    "all_reviews['timestamp'] = all_reviews['review_created_at'].apply(isoparse)\n",
    "\n",
    "cols = ['listing_id', 'localized_city',  'search_location',  'reviews_count', 'review_language', 'review_rating',\\\n",
    "        'reviewer_name','reviewer_gender', 'review_created_at', 'timestamp', 'timezone']\n",
    "all_reviews = all_reviews[cols]\n",
    "\n",
    "for index, col in enumerate(all_reviews.columns): \n",
    "    print(index, col)\n",
    "    \n",
    "all_reviews.to_csv(Path.cwd() / 'Raw_Data' /'Combined_Reviews_Lite.csv.gz', index=False, header=True, compression='gzip')\n"
   ]
  },
  {
   "cell_type": "markdown",
   "metadata": {},
   "source": [
    "# Read the Lite Dataset"
   ]
  },
  {
   "cell_type": "code",
   "execution_count": 3,
   "metadata": {},
   "outputs": [
    {
     "data": {
      "text/html": [
       "<div>\n",
       "<style scoped>\n",
       "    .dataframe tbody tr th:only-of-type {\n",
       "        vertical-align: middle;\n",
       "    }\n",
       "\n",
       "    .dataframe tbody tr th {\n",
       "        vertical-align: top;\n",
       "    }\n",
       "\n",
       "    .dataframe thead th {\n",
       "        text-align: right;\n",
       "    }\n",
       "</style>\n",
       "<table border=\"1\" class=\"dataframe\">\n",
       "  <thead>\n",
       "    <tr style=\"text-align: right;\">\n",
       "      <th></th>\n",
       "      <th>listing_id</th>\n",
       "      <th>localized_city</th>\n",
       "      <th>search_location</th>\n",
       "      <th>reviews_count</th>\n",
       "      <th>review_language</th>\n",
       "      <th>review_rating</th>\n",
       "      <th>reviewer_name</th>\n",
       "      <th>reviewer_gender</th>\n",
       "      <th>review_created_at</th>\n",
       "      <th>timestamp</th>\n",
       "      <th>timezone</th>\n",
       "    </tr>\n",
       "  </thead>\n",
       "  <tbody>\n",
       "    <tr>\n",
       "      <th>0</th>\n",
       "      <td>9214018</td>\n",
       "      <td>Newport Beach</td>\n",
       "      <td>Anaheim_CA</td>\n",
       "      <td>2</td>\n",
       "      <td>en</td>\n",
       "      <td>5.0</td>\n",
       "      <td>Michaela</td>\n",
       "      <td>female</td>\n",
       "      <td>2017-08-04T22:23:37Z</td>\n",
       "      <td>2017-08-04 22:23:37+00:00</td>\n",
       "      <td>Z</td>\n",
       "    </tr>\n",
       "    <tr>\n",
       "      <th>1</th>\n",
       "      <td>9214018</td>\n",
       "      <td>Newport Beach</td>\n",
       "      <td>Anaheim_CA</td>\n",
       "      <td>2</td>\n",
       "      <td>en</td>\n",
       "      <td>0.0</td>\n",
       "      <td>Lawrance</td>\n",
       "      <td>unknown</td>\n",
       "      <td>2016-11-15T16:57:55Z</td>\n",
       "      <td>2016-11-15 16:57:55+00:00</td>\n",
       "      <td>Z</td>\n",
       "    </tr>\n",
       "    <tr>\n",
       "      <th>2</th>\n",
       "      <td>21109067</td>\n",
       "      <td>Huntington Beach</td>\n",
       "      <td>Anaheim_CA</td>\n",
       "      <td>25</td>\n",
       "      <td>en</td>\n",
       "      <td>5.0</td>\n",
       "      <td>John</td>\n",
       "      <td>male</td>\n",
       "      <td>2019-09-16T20:24:21Z</td>\n",
       "      <td>2019-09-16 20:24:21+00:00</td>\n",
       "      <td>Z</td>\n",
       "    </tr>\n",
       "    <tr>\n",
       "      <th>3</th>\n",
       "      <td>21109067</td>\n",
       "      <td>Huntington Beach</td>\n",
       "      <td>Anaheim_CA</td>\n",
       "      <td>25</td>\n",
       "      <td>en</td>\n",
       "      <td>5.0</td>\n",
       "      <td>Christina</td>\n",
       "      <td>female</td>\n",
       "      <td>2019-09-02T22:07:34Z</td>\n",
       "      <td>2019-09-02 22:07:34+00:00</td>\n",
       "      <td>Z</td>\n",
       "    </tr>\n",
       "    <tr>\n",
       "      <th>4</th>\n",
       "      <td>21109067</td>\n",
       "      <td>Huntington Beach</td>\n",
       "      <td>Anaheim_CA</td>\n",
       "      <td>25</td>\n",
       "      <td>en</td>\n",
       "      <td>5.0</td>\n",
       "      <td>Dean</td>\n",
       "      <td>male</td>\n",
       "      <td>2019-08-10T23:46:43Z</td>\n",
       "      <td>2019-08-10 23:46:43+00:00</td>\n",
       "      <td>Z</td>\n",
       "    </tr>\n",
       "    <tr>\n",
       "      <th>5</th>\n",
       "      <td>21109067</td>\n",
       "      <td>Huntington Beach</td>\n",
       "      <td>Anaheim_CA</td>\n",
       "      <td>25</td>\n",
       "      <td>en</td>\n",
       "      <td>5.0</td>\n",
       "      <td>Heather</td>\n",
       "      <td>female</td>\n",
       "      <td>2019-07-27T20:18:32Z</td>\n",
       "      <td>2019-07-27 20:18:32+00:00</td>\n",
       "      <td>Z</td>\n",
       "    </tr>\n",
       "    <tr>\n",
       "      <th>6</th>\n",
       "      <td>21109067</td>\n",
       "      <td>Huntington Beach</td>\n",
       "      <td>Anaheim_CA</td>\n",
       "      <td>25</td>\n",
       "      <td>en</td>\n",
       "      <td>5.0</td>\n",
       "      <td>Ryan</td>\n",
       "      <td>mostly_male</td>\n",
       "      <td>2019-07-13T22:52:26Z</td>\n",
       "      <td>2019-07-13 22:52:26+00:00</td>\n",
       "      <td>Z</td>\n",
       "    </tr>\n",
       "    <tr>\n",
       "      <th>7</th>\n",
       "      <td>21109067</td>\n",
       "      <td>Huntington Beach</td>\n",
       "      <td>Anaheim_CA</td>\n",
       "      <td>25</td>\n",
       "      <td>en</td>\n",
       "      <td>5.0</td>\n",
       "      <td>Gerald</td>\n",
       "      <td>male</td>\n",
       "      <td>2019-06-29T20:11:25Z</td>\n",
       "      <td>2019-06-29 20:11:25+00:00</td>\n",
       "      <td>Z</td>\n",
       "    </tr>\n",
       "    <tr>\n",
       "      <th>8</th>\n",
       "      <td>21109067</td>\n",
       "      <td>Huntington Beach</td>\n",
       "      <td>Anaheim_CA</td>\n",
       "      <td>25</td>\n",
       "      <td>en</td>\n",
       "      <td>5.0</td>\n",
       "      <td>Jesenia</td>\n",
       "      <td>unknown</td>\n",
       "      <td>2019-06-15T20:26:38Z</td>\n",
       "      <td>2019-06-15 20:26:38+00:00</td>\n",
       "      <td>Z</td>\n",
       "    </tr>\n",
       "    <tr>\n",
       "      <th>9</th>\n",
       "      <td>21109067</td>\n",
       "      <td>Huntington Beach</td>\n",
       "      <td>Anaheim_CA</td>\n",
       "      <td>25</td>\n",
       "      <td>en</td>\n",
       "      <td>5.0</td>\n",
       "      <td>Tim</td>\n",
       "      <td>male</td>\n",
       "      <td>2019-05-28T20:17:19Z</td>\n",
       "      <td>2019-05-28 20:17:19+00:00</td>\n",
       "      <td>Z</td>\n",
       "    </tr>\n",
       "  </tbody>\n",
       "</table>\n",
       "</div>"
      ],
      "text/plain": [
       "   listing_id    localized_city search_location  reviews_count  \\\n",
       "0     9214018     Newport Beach      Anaheim_CA              2   \n",
       "1     9214018     Newport Beach      Anaheim_CA              2   \n",
       "2    21109067  Huntington Beach      Anaheim_CA             25   \n",
       "3    21109067  Huntington Beach      Anaheim_CA             25   \n",
       "4    21109067  Huntington Beach      Anaheim_CA             25   \n",
       "5    21109067  Huntington Beach      Anaheim_CA             25   \n",
       "6    21109067  Huntington Beach      Anaheim_CA             25   \n",
       "7    21109067  Huntington Beach      Anaheim_CA             25   \n",
       "8    21109067  Huntington Beach      Anaheim_CA             25   \n",
       "9    21109067  Huntington Beach      Anaheim_CA             25   \n",
       "\n",
       "  review_language  review_rating reviewer_name reviewer_gender  \\\n",
       "0              en            5.0      Michaela          female   \n",
       "1              en            0.0      Lawrance         unknown   \n",
       "2              en            5.0          John            male   \n",
       "3              en            5.0     Christina          female   \n",
       "4              en            5.0          Dean            male   \n",
       "5              en            5.0       Heather          female   \n",
       "6              en            5.0          Ryan     mostly_male   \n",
       "7              en            5.0        Gerald            male   \n",
       "8              en            5.0       Jesenia         unknown   \n",
       "9              en            5.0           Tim            male   \n",
       "\n",
       "      review_created_at                 timestamp timezone  \n",
       "0  2017-08-04T22:23:37Z 2017-08-04 22:23:37+00:00        Z  \n",
       "1  2016-11-15T16:57:55Z 2016-11-15 16:57:55+00:00        Z  \n",
       "2  2019-09-16T20:24:21Z 2019-09-16 20:24:21+00:00        Z  \n",
       "3  2019-09-02T22:07:34Z 2019-09-02 22:07:34+00:00        Z  \n",
       "4  2019-08-10T23:46:43Z 2019-08-10 23:46:43+00:00        Z  \n",
       "5  2019-07-27T20:18:32Z 2019-07-27 20:18:32+00:00        Z  \n",
       "6  2019-07-13T22:52:26Z 2019-07-13 22:52:26+00:00        Z  \n",
       "7  2019-06-29T20:11:25Z 2019-06-29 20:11:25+00:00        Z  \n",
       "8  2019-06-15T20:26:38Z 2019-06-15 20:26:38+00:00        Z  \n",
       "9  2019-05-28T20:17:19Z 2019-05-28 20:17:19+00:00        Z  "
      ]
     },
     "execution_count": 3,
     "metadata": {},
     "output_type": "execute_result"
    }
   ],
   "source": [
    "all_reviews = pd.read_csv(Path.cwd() / 'Raw_Data' /'Combined_Reviews_Lite.csv.gz',\\\n",
    "                           compression='gzip', error_bad_lines=False, parse_dates=[9], date_parser=isoparse)\n",
    "\n",
    "all_reviews.head(10)"
   ]
  },
  {
   "cell_type": "code",
   "execution_count": 21,
   "metadata": {},
   "outputs": [
    {
     "data": {
      "text/plain": [
       "datetime64[ns, tzutc()]"
      ]
     },
     "execution_count": 21,
     "metadata": {},
     "output_type": "execute_result"
    }
   ],
   "source": [
    "all_reviews['timestamp'].dtypes"
   ]
  },
  {
   "cell_type": "code",
   "execution_count": null,
   "metadata": {},
   "outputs": [],
   "source": []
  },
  {
   "cell_type": "code",
   "execution_count": null,
   "metadata": {},
   "outputs": [],
   "source": []
  },
  {
   "cell_type": "code",
   "execution_count": 21,
   "metadata": {},
   "outputs": [],
   "source": []
  }
 ],
 "metadata": {
  "kernelspec": {
   "display_name": "Python 3",
   "language": "python",
   "name": "python3"
  },
  "language_info": {
   "codemirror_mode": {
    "name": "ipython",
    "version": 3
   },
   "file_extension": ".py",
   "mimetype": "text/x-python",
   "name": "python",
   "nbconvert_exporter": "python",
   "pygments_lexer": "ipython3",
   "version": "3.8.3"
  }
 },
 "nbformat": 4,
 "nbformat_minor": 4
}
