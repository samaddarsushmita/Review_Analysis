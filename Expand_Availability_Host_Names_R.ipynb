{
 "cells": [
  {
   "cell_type": "code",
   "execution_count": 2,
   "metadata": {},
   "outputs": [],
   "source": [
    "import pandas as pd"
   ]
  },
  {
   "cell_type": "markdown",
   "metadata": {},
   "source": [
    "# Expand Availability Array Into Separate Columns"
   ]
  },
  {
   "cell_type": "code",
   "execution_count": 14,
   "metadata": {},
   "outputs": [],
   "source": [
    "df = pd.read_excel (r\"C:\\Users\\s137c989\\OneDrive - The University of Kansas\\Airbnb Shared with Anyi\\available.xlsx\")"
   ]
  },
  {
   "cell_type": "code",
   "execution_count": 15,
   "metadata": {},
   "outputs": [
    {
     "name": "stdout",
     "output_type": "stream",
     "text": [
      "0 listing_id\n",
      "1 days_available_monthly\n",
      "2 host_name_has_space\n"
     ]
    }
   ],
   "source": [
    "for index, col in enumerate(df.columns): \n",
    "    print(index, col)"
   ]
  },
  {
   "cell_type": "code",
   "execution_count": 24,
   "metadata": {},
   "outputs": [
    {
     "data": {
      "text/html": [
       "<div>\n",
       "<style scoped>\n",
       "    .dataframe tbody tr th:only-of-type {\n",
       "        vertical-align: middle;\n",
       "    }\n",
       "\n",
       "    .dataframe tbody tr th {\n",
       "        vertical-align: top;\n",
       "    }\n",
       "\n",
       "    .dataframe thead th {\n",
       "        text-align: right;\n",
       "    }\n",
       "</style>\n",
       "<table border=\"1\" class=\"dataframe\">\n",
       "  <thead>\n",
       "    <tr style=\"text-align: right;\">\n",
       "      <th></th>\n",
       "      <th>listing_id</th>\n",
       "      <th>days_available_monthly</th>\n",
       "      <th>host_name_has_space</th>\n",
       "    </tr>\n",
       "  </thead>\n",
       "  <tbody>\n",
       "    <tr>\n",
       "      <th>0</th>\n",
       "      <td>27259995</td>\n",
       "      <td>[3, 30, 31, 25, 0, 0, 0, 0, 0, 0, 0, 0]</td>\n",
       "      <td>0</td>\n",
       "    </tr>\n",
       "    <tr>\n",
       "      <th>1</th>\n",
       "      <td>9214018</td>\n",
       "      <td>[1, 27, 31, 30, 31, 31, 30, 31, 30, 31, 31, 28]</td>\n",
       "      <td>0</td>\n",
       "    </tr>\n",
       "    <tr>\n",
       "      <th>2</th>\n",
       "      <td>38703888</td>\n",
       "      <td>[4, 30, 31, 30, 31, 31, 30, 31, 30, 31, 31, 28]</td>\n",
       "      <td>0</td>\n",
       "    </tr>\n",
       "    <tr>\n",
       "      <th>3</th>\n",
       "      <td>21109067</td>\n",
       "      <td>[0, 0, 31, 13, 4, 9, 30, 31, 30, 22, 0, 0]</td>\n",
       "      <td>0</td>\n",
       "    </tr>\n",
       "    <tr>\n",
       "      <th>4</th>\n",
       "      <td>13301958</td>\n",
       "      <td>[0, 0, 0, 0, 0, 0, 0, 0, 30, 31, 31, 28]</td>\n",
       "      <td>0</td>\n",
       "    </tr>\n",
       "    <tr>\n",
       "      <th>5</th>\n",
       "      <td>30481280</td>\n",
       "      <td>[5, 30, 31, 30, 31, 31, 30, 31, 30, 31, 31, 28]</td>\n",
       "      <td>0</td>\n",
       "    </tr>\n",
       "    <tr>\n",
       "      <th>6</th>\n",
       "      <td>25052417</td>\n",
       "      <td>[5, 30, 31, 30, 31, 31, 30, 31, 30, 31, 31, 28]</td>\n",
       "      <td>0</td>\n",
       "    </tr>\n",
       "    <tr>\n",
       "      <th>7</th>\n",
       "      <td>18315194</td>\n",
       "      <td>[4, 28, 22, 18, 0, 26, 30, 14, 30, 25, 31, 28]</td>\n",
       "      <td>0</td>\n",
       "    </tr>\n",
       "    <tr>\n",
       "      <th>8</th>\n",
       "      <td>42700324</td>\n",
       "      <td>[4, 29, 26, 23, 0, 0, 0, 0, 0, 0, 0, 0]</td>\n",
       "      <td>1</td>\n",
       "    </tr>\n",
       "    <tr>\n",
       "      <th>9</th>\n",
       "      <td>17302028</td>\n",
       "      <td>[1, 0, 0, 23, 31, 13, 23, 31, 30, 24, 31, 28]</td>\n",
       "      <td>1</td>\n",
       "    </tr>\n",
       "  </tbody>\n",
       "</table>\n",
       "</div>"
      ],
      "text/plain": [
       "   listing_id                           days_available_monthly  \\\n",
       "0    27259995          [3, 30, 31, 25, 0, 0, 0, 0, 0, 0, 0, 0]   \n",
       "1     9214018  [1, 27, 31, 30, 31, 31, 30, 31, 30, 31, 31, 28]   \n",
       "2    38703888  [4, 30, 31, 30, 31, 31, 30, 31, 30, 31, 31, 28]   \n",
       "3    21109067       [0, 0, 31, 13, 4, 9, 30, 31, 30, 22, 0, 0]   \n",
       "4    13301958         [0, 0, 0, 0, 0, 0, 0, 0, 30, 31, 31, 28]   \n",
       "5    30481280  [5, 30, 31, 30, 31, 31, 30, 31, 30, 31, 31, 28]   \n",
       "6    25052417  [5, 30, 31, 30, 31, 31, 30, 31, 30, 31, 31, 28]   \n",
       "7    18315194   [4, 28, 22, 18, 0, 26, 30, 14, 30, 25, 31, 28]   \n",
       "8    42700324          [4, 29, 26, 23, 0, 0, 0, 0, 0, 0, 0, 0]   \n",
       "9    17302028    [1, 0, 0, 23, 31, 13, 23, 31, 30, 24, 31, 28]   \n",
       "\n",
       "   host_name_has_space  \n",
       "0                    0  \n",
       "1                    0  \n",
       "2                    0  \n",
       "3                    0  \n",
       "4                    0  \n",
       "5                    0  \n",
       "6                    0  \n",
       "7                    0  \n",
       "8                    1  \n",
       "9                    1  "
      ]
     },
     "execution_count": 24,
     "metadata": {},
     "output_type": "execute_result"
    }
   ],
   "source": [
    "df.head(10)"
   ]
  },
  {
   "cell_type": "code",
   "execution_count": 17,
   "metadata": {},
   "outputs": [],
   "source": [
    "from ast import literal_eval\n",
    "df.days_available_monthly = df.days_available_monthly.apply(literal_eval)"
   ]
  },
  {
   "cell_type": "code",
   "execution_count": 26,
   "metadata": {},
   "outputs": [
    {
     "name": "stdout",
     "output_type": "stream",
     "text": [
      "28\n"
     ]
    }
   ],
   "source": [
    "print(df.days_available_monthly[1][11])"
   ]
  },
  {
   "cell_type": "code",
   "execution_count": 29,
   "metadata": {},
   "outputs": [],
   "source": [
    "df[['Month1', 'Month2', 'Month3', 'Month4', 'Month5', 'Month6', 'Month7', 'Month8', 'Month9', 'Month10', 'Month11', 'Month12']] \\\n",
    "    = pd.DataFrame(df.days_available_monthly.tolist(), index = df.index)"
   ]
  },
  {
   "cell_type": "code",
   "execution_count": 32,
   "metadata": {},
   "outputs": [],
   "source": [
    "availability = df.to_csv (r'C:\\Users\\s137c989\\OneDrive - The University of Kansas\\Airbnb Shared with Anyi\\Availability_Dip.csv.gz', index = None, header=True, compression='gzip')"
   ]
  },
  {
   "cell_type": "markdown",
   "metadata": {},
   "source": [
    "# Host Names"
   ]
  },
  {
   "cell_type": "code",
   "execution_count": 3,
   "metadata": {},
   "outputs": [],
   "source": [
    "All_Names = pd.read_csv(r'C:\\Users\\s137c989\\OneDrive - The University of Kansas\\Airbnb Shared with Anyi\\Combined_Listings.csv.gz',\\\n",
    "                           compression='gzip', usecols=['host_name'])"
   ]
  },
  {
   "cell_type": "code",
   "execution_count": 4,
   "metadata": {},
   "outputs": [
    {
     "name": "stdout",
     "output_type": "stream",
     "text": [
      "<class 'pandas.core.frame.DataFrame'>\n",
      "RangeIndex: 327146 entries, 0 to 327145\n",
      "Data columns (total 1 columns):\n",
      " #   Column     Non-Null Count   Dtype \n",
      "---  ------     --------------   ----- \n",
      " 0   host_name  327146 non-null  object\n",
      "dtypes: object(1)\n",
      "memory usage: 2.5+ MB\n"
     ]
    }
   ],
   "source": [
    "All_Names.info()"
   ]
  },
  {
   "cell_type": "code",
   "execution_count": 5,
   "metadata": {},
   "outputs": [
    {
     "name": "stdout",
     "output_type": "stream",
     "text": [
      "<class 'pandas.core.frame.DataFrame'>\n",
      "Int64Index: 37307 entries, 0 to 327132\n",
      "Data columns (total 1 columns):\n",
      " #   Column     Non-Null Count  Dtype \n",
      "---  ------     --------------  ----- \n",
      " 0   host_name  37307 non-null  object\n",
      "dtypes: object(1)\n",
      "memory usage: 582.9+ KB\n"
     ]
    }
   ],
   "source": [
    "All_Names = All_Names.drop_duplicates(keep = 'first')\n",
    "All_Names.info()"
   ]
  },
  {
   "cell_type": "code",
   "execution_count": 6,
   "metadata": {},
   "outputs": [
    {
     "data": {
      "text/html": [
       "<div>\n",
       "<style scoped>\n",
       "    .dataframe tbody tr th:only-of-type {\n",
       "        vertical-align: middle;\n",
       "    }\n",
       "\n",
       "    .dataframe tbody tr th {\n",
       "        vertical-align: top;\n",
       "    }\n",
       "\n",
       "    .dataframe thead th {\n",
       "        text-align: right;\n",
       "    }\n",
       "</style>\n",
       "<table border=\"1\" class=\"dataframe\">\n",
       "  <thead>\n",
       "    <tr style=\"text-align: right;\">\n",
       "      <th></th>\n",
       "      <th>host_name</th>\n",
       "      <th>parts_of_speech</th>\n",
       "    </tr>\n",
       "  </thead>\n",
       "  <tbody>\n",
       "    <tr>\n",
       "      <th>0</th>\n",
       "      <td>Alton</td>\n",
       "      <td>Alton</td>\n",
       "    </tr>\n",
       "    <tr>\n",
       "      <th>1</th>\n",
       "      <td>Gretchen</td>\n",
       "      <td>Gretchen</td>\n",
       "    </tr>\n",
       "    <tr>\n",
       "      <th>2</th>\n",
       "      <td>Vacation</td>\n",
       "      <td>Vacation</td>\n",
       "    </tr>\n",
       "    <tr>\n",
       "      <th>3</th>\n",
       "      <td>Taylor</td>\n",
       "      <td>Taylor</td>\n",
       "    </tr>\n",
       "    <tr>\n",
       "      <th>4</th>\n",
       "      <td>Allen</td>\n",
       "      <td>Allen</td>\n",
       "    </tr>\n",
       "  </tbody>\n",
       "</table>\n",
       "</div>"
      ],
      "text/plain": [
       "  host_name parts_of_speech\n",
       "0     Alton           Alton\n",
       "1  Gretchen        Gretchen\n",
       "2  Vacation        Vacation\n",
       "3    Taylor          Taylor\n",
       "4     Allen           Allen"
      ]
     },
     "execution_count": 6,
     "metadata": {},
     "output_type": "execute_result"
    }
   ],
   "source": [
    "All_Names['parts_of_speech'] = All_Names['host_name']\n",
    "All_Names.head()"
   ]
  },
  {
   "cell_type": "code",
   "execution_count": 7,
   "metadata": {},
   "outputs": [],
   "source": [
    "# Parts of Speech in name : https://spacy.io/api/annotation\n",
    "import spacy\n",
    "\n",
    "nlp = spacy.load('en', disable=['parser', 'ner'])\n",
    "nlp.max_length = 1030000 \n",
    "\n",
    "def name_pos(name):    \n",
    "    lower_name = name.lower()\n",
    "    return [token.pos_ for token in nlp(lower_name)]\n",
    "\n",
    "All_Names['parts_of_speech'] = All_Names['parts_of_speech'].apply(name_pos)"
   ]
  },
  {
   "cell_type": "code",
   "execution_count": 9,
   "metadata": {},
   "outputs": [
    {
     "data": {
      "text/html": [
       "<div>\n",
       "<style scoped>\n",
       "    .dataframe tbody tr th:only-of-type {\n",
       "        vertical-align: middle;\n",
       "    }\n",
       "\n",
       "    .dataframe tbody tr th {\n",
       "        vertical-align: top;\n",
       "    }\n",
       "\n",
       "    .dataframe thead th {\n",
       "        text-align: right;\n",
       "    }\n",
       "</style>\n",
       "<table border=\"1\" class=\"dataframe\">\n",
       "  <thead>\n",
       "    <tr style=\"text-align: right;\">\n",
       "      <th></th>\n",
       "      <th>host_name</th>\n",
       "      <th>parts_of_speech</th>\n",
       "    </tr>\n",
       "  </thead>\n",
       "  <tbody>\n",
       "    <tr>\n",
       "      <th>8</th>\n",
       "      <td>Dame Lillian</td>\n",
       "      <td>[PROPN, PROPN]</td>\n",
       "    </tr>\n",
       "    <tr>\n",
       "      <th>9</th>\n",
       "      <td>Beachview Realty</td>\n",
       "      <td>[PROPN, PROPN]</td>\n",
       "    </tr>\n",
       "    <tr>\n",
       "      <th>10</th>\n",
       "      <td>Yiming (CoCo)</td>\n",
       "      <td>[PROPN, PUNCT, PROPN, PUNCT]</td>\n",
       "    </tr>\n",
       "    <tr>\n",
       "      <th>12</th>\n",
       "      <td>Vacasa California</td>\n",
       "      <td>[PROPN, PROPN]</td>\n",
       "    </tr>\n",
       "    <tr>\n",
       "      <th>13</th>\n",
       "      <td>Martin And Patrice</td>\n",
       "      <td>[PROPN, CCONJ, NOUN]</td>\n",
       "    </tr>\n",
       "    <tr>\n",
       "      <th>...</th>\n",
       "      <td>...</td>\n",
       "      <td>...</td>\n",
       "    </tr>\n",
       "    <tr>\n",
       "      <th>327025</th>\n",
       "      <td>Oliver And Coral</td>\n",
       "      <td>[PROPN, CCONJ, NOUN]</td>\n",
       "    </tr>\n",
       "    <tr>\n",
       "      <th>327062</th>\n",
       "      <td>Chris And Shawanda</td>\n",
       "      <td>[PROPN, CCONJ, PROPN]</td>\n",
       "    </tr>\n",
       "    <tr>\n",
       "      <th>327079</th>\n",
       "      <td>Sara Savi</td>\n",
       "      <td>[PROPN, PROPN]</td>\n",
       "    </tr>\n",
       "    <tr>\n",
       "      <th>327128</th>\n",
       "      <td>Rick &amp; Amy</td>\n",
       "      <td>[PROPN, CCONJ, PROPN]</td>\n",
       "    </tr>\n",
       "    <tr>\n",
       "      <th>327130</th>\n",
       "      <td>Asmara And Kenn</td>\n",
       "      <td>[PROPN, CCONJ, PROPN]</td>\n",
       "    </tr>\n",
       "  </tbody>\n",
       "</table>\n",
       "<p>15526 rows × 2 columns</p>\n",
       "</div>"
      ],
      "text/plain": [
       "                 host_name               parts_of_speech\n",
       "8             Dame Lillian                [PROPN, PROPN]\n",
       "9         Beachview Realty                [PROPN, PROPN]\n",
       "10           Yiming (CoCo)  [PROPN, PUNCT, PROPN, PUNCT]\n",
       "12       Vacasa California                [PROPN, PROPN]\n",
       "13      Martin And Patrice          [PROPN, CCONJ, NOUN]\n",
       "...                    ...                           ...\n",
       "327025    Oliver And Coral          [PROPN, CCONJ, NOUN]\n",
       "327062  Chris And Shawanda         [PROPN, CCONJ, PROPN]\n",
       "327079           Sara Savi                [PROPN, PROPN]\n",
       "327128          Rick & Amy         [PROPN, CCONJ, PROPN]\n",
       "327130     Asmara And Kenn         [PROPN, CCONJ, PROPN]\n",
       "\n",
       "[15526 rows x 2 columns]"
      ]
     },
     "execution_count": 9,
     "metadata": {},
     "output_type": "execute_result"
    }
   ],
   "source": [
    "All_Names[ All_Names['parts_of_speech'].str.len()>1 ]"
   ]
  },
  {
   "cell_type": "code",
   "execution_count": 22,
   "metadata": {},
   "outputs": [
    {
     "name": "stdout",
     "output_type": "stream",
     "text": [
      "<class 'pandas.core.frame.DataFrame'>\n",
      "Int64Index: 37307 entries, 0 to 327132\n",
      "Data columns (total 2 columns):\n",
      " #   Column           Non-Null Count  Dtype \n",
      "---  ------           --------------  ----- \n",
      " 0   host_name        37307 non-null  object\n",
      " 1   parts_of_speech  37307 non-null  object\n",
      "dtypes: object(2)\n",
      "memory usage: 874.4+ KB\n"
     ]
    }
   ],
   "source": [
    "All_Names.info()"
   ]
  },
  {
   "cell_type": "code",
   "execution_count": 10,
   "metadata": {},
   "outputs": [],
   "source": [
    "All_Names.to_csv(r'C:/Users/s137c989/OneDrive - The University of Kansas/AirBnb Data and Codes/All_Host_Names.csv.gz',\\\n",
    "                           compression='gzip')"
   ]
  },
  {
   "cell_type": "code",
   "execution_count": 13,
   "metadata": {},
   "outputs": [],
   "source": [
    "Names_R = pd.read_csv(r'C:/Users/s137c989/OneDrive - The University of Kansas/AirBnb Data and Codes/All_Host_Name2.csv.gz',\\\n",
    "                           compression='gzip')"
   ]
  },
  {
   "cell_type": "code",
   "execution_count": 19,
   "metadata": {},
   "outputs": [
    {
     "data": {
      "text/html": [
       "<div>\n",
       "<style scoped>\n",
       "    .dataframe tbody tr th:only-of-type {\n",
       "        vertical-align: middle;\n",
       "    }\n",
       "\n",
       "    .dataframe tbody tr th {\n",
       "        vertical-align: top;\n",
       "    }\n",
       "\n",
       "    .dataframe thead th {\n",
       "        text-align: right;\n",
       "    }\n",
       "</style>\n",
       "<table border=\"1\" class=\"dataframe\">\n",
       "  <thead>\n",
       "    <tr style=\"text-align: right;\">\n",
       "      <th></th>\n",
       "      <th>host_name</th>\n",
       "      <th>proportion_male</th>\n",
       "      <th>proportion_female</th>\n",
       "      <th>host_gender_r</th>\n",
       "    </tr>\n",
       "  </thead>\n",
       "  <tbody>\n",
       "    <tr>\n",
       "      <th>0</th>\n",
       "      <td>Aadit</td>\n",
       "      <td>1.0000</td>\n",
       "      <td>0.0000</td>\n",
       "      <td>male</td>\n",
       "    </tr>\n",
       "    <tr>\n",
       "      <th>1</th>\n",
       "      <td>Aahna</td>\n",
       "      <td>0.0000</td>\n",
       "      <td>1.0000</td>\n",
       "      <td>female</td>\n",
       "    </tr>\n",
       "    <tr>\n",
       "      <th>2</th>\n",
       "      <td>Aaliyah</td>\n",
       "      <td>0.0012</td>\n",
       "      <td>0.9988</td>\n",
       "      <td>female</td>\n",
       "    </tr>\n",
       "    <tr>\n",
       "      <th>3</th>\n",
       "      <td>Aamer</td>\n",
       "      <td>1.0000</td>\n",
       "      <td>0.0000</td>\n",
       "      <td>male</td>\n",
       "    </tr>\n",
       "    <tr>\n",
       "      <th>4</th>\n",
       "      <td>Aamir</td>\n",
       "      <td>1.0000</td>\n",
       "      <td>0.0000</td>\n",
       "      <td>male</td>\n",
       "    </tr>\n",
       "  </tbody>\n",
       "</table>\n",
       "</div>"
      ],
      "text/plain": [
       "  host_name  proportion_male  proportion_female host_gender_r\n",
       "0     Aadit           1.0000             0.0000          male\n",
       "1     Aahna           0.0000             1.0000        female\n",
       "2   Aaliyah           0.0012             0.9988        female\n",
       "3     Aamer           1.0000             0.0000          male\n",
       "4     Aamir           1.0000             0.0000          male"
      ]
     },
     "execution_count": 19,
     "metadata": {},
     "output_type": "execute_result"
    }
   ],
   "source": [
    "Names_R = Names_R.drop(['Unnamed: 0'],axis=1)\n",
    "Names_R.head()"
   ]
  },
  {
   "cell_type": "code",
   "execution_count": 20,
   "metadata": {
    "scrolled": true
   },
   "outputs": [
    {
     "name": "stdout",
     "output_type": "stream",
     "text": [
      "<class 'pandas.core.frame.DataFrame'>\n",
      "RangeIndex: 12939 entries, 0 to 12938\n",
      "Data columns (total 4 columns):\n",
      " #   Column             Non-Null Count  Dtype  \n",
      "---  ------             --------------  -----  \n",
      " 0   host_name          12939 non-null  object \n",
      " 1   proportion_male    12939 non-null  float64\n",
      " 2   proportion_female  12939 non-null  float64\n",
      " 3   host_gender_r      12939 non-null  object \n",
      "dtypes: float64(2), object(2)\n",
      "memory usage: 404.5+ KB\n"
     ]
    }
   ],
   "source": [
    "Names_R.info()"
   ]
  },
  {
   "cell_type": "code",
   "execution_count": 28,
   "metadata": {},
   "outputs": [],
   "source": [
    "All_Names2 = pd.merge(left=Names_R, right=All_Names, left_on='host_name', right_on='host_name',how='right')\n",
    "\n",
    "columns = ['host_name','parts_of_speech','proportion_female','host_gender_r']\n",
    "All_Names2 = All_Names2[columns]"
   ]
  },
  {
   "cell_type": "code",
   "execution_count": 32,
   "metadata": {},
   "outputs": [
    {
     "data": {
      "text/html": [
       "<div>\n",
       "<style scoped>\n",
       "    .dataframe tbody tr th:only-of-type {\n",
       "        vertical-align: middle;\n",
       "    }\n",
       "\n",
       "    .dataframe tbody tr th {\n",
       "        vertical-align: top;\n",
       "    }\n",
       "\n",
       "    .dataframe thead th {\n",
       "        text-align: right;\n",
       "    }\n",
       "</style>\n",
       "<table border=\"1\" class=\"dataframe\">\n",
       "  <thead>\n",
       "    <tr style=\"text-align: right;\">\n",
       "      <th></th>\n",
       "      <th>host_name</th>\n",
       "      <th>parts_of_speech</th>\n",
       "      <th>proportion_female</th>\n",
       "      <th>host_gender_r</th>\n",
       "    </tr>\n",
       "  </thead>\n",
       "  <tbody>\n",
       "    <tr>\n",
       "      <th>37297</th>\n",
       "      <td>Oliver And Coral</td>\n",
       "      <td>[PROPN, CCONJ, NOUN]</td>\n",
       "      <td>NaN</td>\n",
       "      <td>NaN</td>\n",
       "    </tr>\n",
       "    <tr>\n",
       "      <th>37298</th>\n",
       "      <td>Teeb</td>\n",
       "      <td>[PROPN]</td>\n",
       "      <td>NaN</td>\n",
       "      <td>NaN</td>\n",
       "    </tr>\n",
       "    <tr>\n",
       "      <th>37299</th>\n",
       "      <td>Chris And Shawanda</td>\n",
       "      <td>[PROPN, CCONJ, PROPN]</td>\n",
       "      <td>NaN</td>\n",
       "      <td>NaN</td>\n",
       "    </tr>\n",
       "    <tr>\n",
       "      <th>37300</th>\n",
       "      <td>Too</td>\n",
       "      <td>[ADV]</td>\n",
       "      <td>NaN</td>\n",
       "      <td>NaN</td>\n",
       "    </tr>\n",
       "    <tr>\n",
       "      <th>37301</th>\n",
       "      <td>Sara Savi</td>\n",
       "      <td>[PROPN, PROPN]</td>\n",
       "      <td>NaN</td>\n",
       "      <td>NaN</td>\n",
       "    </tr>\n",
       "    <tr>\n",
       "      <th>37302</th>\n",
       "      <td>Sanata</td>\n",
       "      <td>[PROPN]</td>\n",
       "      <td>NaN</td>\n",
       "      <td>NaN</td>\n",
       "    </tr>\n",
       "    <tr>\n",
       "      <th>37303</th>\n",
       "      <td>Rossa</td>\n",
       "      <td>[PROPN]</td>\n",
       "      <td>NaN</td>\n",
       "      <td>NaN</td>\n",
       "    </tr>\n",
       "    <tr>\n",
       "      <th>37304</th>\n",
       "      <td>Gennet</td>\n",
       "      <td>[NOUN]</td>\n",
       "      <td>NaN</td>\n",
       "      <td>NaN</td>\n",
       "    </tr>\n",
       "    <tr>\n",
       "      <th>37305</th>\n",
       "      <td>Rick &amp; Amy</td>\n",
       "      <td>[PROPN, CCONJ, PROPN]</td>\n",
       "      <td>NaN</td>\n",
       "      <td>NaN</td>\n",
       "    </tr>\n",
       "    <tr>\n",
       "      <th>37306</th>\n",
       "      <td>Asmara And Kenn</td>\n",
       "      <td>[PROPN, CCONJ, PROPN]</td>\n",
       "      <td>NaN</td>\n",
       "      <td>NaN</td>\n",
       "    </tr>\n",
       "  </tbody>\n",
       "</table>\n",
       "</div>"
      ],
      "text/plain": [
       "                host_name        parts_of_speech  proportion_female  \\\n",
       "37297    Oliver And Coral   [PROPN, CCONJ, NOUN]                NaN   \n",
       "37298                Teeb                [PROPN]                NaN   \n",
       "37299  Chris And Shawanda  [PROPN, CCONJ, PROPN]                NaN   \n",
       "37300                 Too                  [ADV]                NaN   \n",
       "37301           Sara Savi         [PROPN, PROPN]                NaN   \n",
       "37302              Sanata                [PROPN]                NaN   \n",
       "37303               Rossa                [PROPN]                NaN   \n",
       "37304              Gennet                 [NOUN]                NaN   \n",
       "37305          Rick & Amy  [PROPN, CCONJ, PROPN]                NaN   \n",
       "37306     Asmara And Kenn  [PROPN, CCONJ, PROPN]                NaN   \n",
       "\n",
       "      host_gender_r  \n",
       "37297           NaN  \n",
       "37298           NaN  \n",
       "37299           NaN  \n",
       "37300           NaN  \n",
       "37301           NaN  \n",
       "37302           NaN  \n",
       "37303           NaN  \n",
       "37304           NaN  \n",
       "37305           NaN  \n",
       "37306           NaN  "
      ]
     },
     "execution_count": 32,
     "metadata": {},
     "output_type": "execute_result"
    }
   ],
   "source": [
    "All_Names2.tail(10)"
   ]
  },
  {
   "cell_type": "code",
   "execution_count": 29,
   "metadata": {},
   "outputs": [
    {
     "name": "stdout",
     "output_type": "stream",
     "text": [
      "<class 'pandas.core.frame.DataFrame'>\n",
      "Int64Index: 37307 entries, 0 to 37306\n",
      "Data columns (total 4 columns):\n",
      " #   Column             Non-Null Count  Dtype  \n",
      "---  ------             --------------  -----  \n",
      " 0   host_name          37307 non-null  object \n",
      " 1   parts_of_speech    37307 non-null  object \n",
      " 2   proportion_female  12939 non-null  float64\n",
      " 3   host_gender_r      12939 non-null  object \n",
      "dtypes: float64(1), object(3)\n",
      "memory usage: 1.4+ MB\n"
     ]
    }
   ],
   "source": [
    "All_Names2.info()"
   ]
  },
  {
   "cell_type": "code",
   "execution_count": 37,
   "metadata": {},
   "outputs": [
    {
     "name": "stdout",
     "output_type": "stream",
     "text": [
      "Requirement already satisfied: gender_guesser in c:\\users\\s137c989\\anaconda3\\lib\\site-packages (0.4.0)\n"
     ]
    }
   ],
   "source": [
    "#!pip install gender_guesser"
   ]
  },
  {
   "cell_type": "code",
   "execution_count": 46,
   "metadata": {},
   "outputs": [],
   "source": [
    "import gender_guesser.detector as gender\n",
    "d = gender.Detector()\n",
    "\n",
    "All_Names2['host_gender_py'] = All_Names2['host_name'].apply(d.get_gender)"
   ]
  },
  {
   "cell_type": "code",
   "execution_count": 47,
   "metadata": {},
   "outputs": [
    {
     "name": "stdout",
     "output_type": "stream",
     "text": [
      "<class 'pandas.core.frame.DataFrame'>\n",
      "Int64Index: 37307 entries, 0 to 37306\n",
      "Data columns (total 5 columns):\n",
      " #   Column             Non-Null Count  Dtype  \n",
      "---  ------             --------------  -----  \n",
      " 0   host_name          37307 non-null  object \n",
      " 1   parts_of_speech    37307 non-null  object \n",
      " 2   proportion_female  12939 non-null  float64\n",
      " 3   host_gender_r      12939 non-null  object \n",
      " 4   host_gender_py     37307 non-null  object \n",
      "dtypes: float64(1), object(4)\n",
      "memory usage: 1.7+ MB\n"
     ]
    }
   ],
   "source": [
    "All_Names2.info()"
   ]
  },
  {
   "cell_type": "code",
   "execution_count": 48,
   "metadata": {},
   "outputs": [],
   "source": [
    "All_Names2.to_csv(r'C:/Users/s137c989/OneDrive - The University of Kansas/AirBnb Data and Codes/All_Host_Names_v3.csv.gz',\\\n",
    "                           compression='gzip')"
   ]
  }
 ],
 "metadata": {
  "kernelspec": {
   "display_name": "Python 3",
   "language": "python",
   "name": "python3"
  },
  "language_info": {
   "codemirror_mode": {
    "name": "ipython",
    "version": 3
   },
   "file_extension": ".py",
   "mimetype": "text/x-python",
   "name": "python",
   "nbconvert_exporter": "python",
   "pygments_lexer": "ipython3",
   "version": "3.8.3"
  }
 },
 "nbformat": 4,
 "nbformat_minor": 4
}
